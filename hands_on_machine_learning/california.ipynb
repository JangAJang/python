{
 "cells": [
  {
   "cell_type": "markdown",
   "metadata": {},
   "source": [
    "# 캘리포니아 주택 가격 예측\n",
    "\n",
    "### 기본 정보\n",
    "\n",
    "- 인구, 중간소득 등의 특성을 사용하여 주택 가격 예측\n",
    "- 다중 회귀, 단방향 회귀(반대 : 다변량 회귀)\n",
    "    - 다중 회귀 : 여러 개의 특성을 이용한 회귀\n",
    "    - 단방향 회귀 : 하나의 데이터에 대한 예측\n",
    "    - 다변량 회귀 : 여러 개의 수치를 예측하기 위한 회귀\n",
    "- 회귀의 성능 측정 방법\n",
    "    - 평균 제곱근의 오차를 활용\n",
    "    - 평균 절대오차를 활용"
   ]
  },
  {
   "cell_type": "markdown",
   "metadata": {},
   "source": [
    "- 일차적으로 파이썬 커널을 설정하면서 정상적으로 import가 되는지 체크해주었다. \n",
    "- 커널에 원하는 import 추가하는 법\n",
    "    1. `venv`로 커널을 생성해준다. \n",
    "    2. `source .venv/bin/activate`로 venv를 활성화해준다. \n",
    "    3. 내부에서 `pip install`로 원하는 라이브러리를 다운로드 받는다. "
   ]
  },
  {
   "cell_type": "code",
   "execution_count": 4,
   "metadata": {},
   "outputs": [
    {
     "name": "stderr",
     "output_type": "stream",
     "text": [
      "Matplotlib is building the font cache; this may take a moment.\n"
     ]
    }
   ],
   "source": [
    "import sys\n",
    "\n",
    "assert sys.version_info >= (3, 5)\n",
    "\n",
    "import sklearn\n",
    "\n",
    "assert sklearn.__version__ >= \"0.20\"\n",
    "\n",
    "import numpy as np\n",
    "import os\n",
    "\n",
    "import matplotlib as mpl\n",
    "import matplotlib.pyplot as plt\n",
    "\n",
    "mpl.rc('axes', labelsize=14)\n",
    "mpl.rc('xtick', labelsize=12)\n",
    "mpl.rc('ytick', labelsize=12)\n",
    "\n",
    "ROOT_DIR = '.'\n",
    "CHAPTER_ID = 'end_to_end_project'\n",
    "IMAGE_PATH = os.path.join(ROOT_DIR, 'images', CHAPTER_ID)\n",
    "os.makedirs(IMAGE_PATH, exist_ok=True)\n",
    "\n",
    "def save_fig(fig_id, tight_layout=True, fig_extension = 'png', resolution = 100): \n",
    "    path = os.path.join(IMAGE_PATH, fig_id + '.' + fig_extension)\n",
    "    print('그림 저장 : ', fig_id)\n",
    "\n",
    "    if tight_layout:\n",
    "        plt.tight_layout()\n",
    "    \n",
    "    plt.savefig(path, format=fig_extension, dpi=resolution)\n",
    "\n",
    "import warnings\n",
    "\n",
    "warnings.filterwarnings(action='ignore', message='^internal gelsd')\n"
   ]
  }
 ],
 "metadata": {
  "kernelspec": {
   "display_name": ".venv",
   "language": "python",
   "name": "python3"
  },
  "language_info": {
   "codemirror_mode": {
    "name": "ipython",
    "version": 3
   },
   "file_extension": ".py",
   "mimetype": "text/x-python",
   "name": "python",
   "nbconvert_exporter": "python",
   "pygments_lexer": "ipython3",
   "version": "3.13.1"
  }
 },
 "nbformat": 4,
 "nbformat_minor": 2
}
