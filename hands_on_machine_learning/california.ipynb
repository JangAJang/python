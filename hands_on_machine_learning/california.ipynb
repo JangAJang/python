{
 "cells": [
  {
   "cell_type": "markdown",
   "metadata": {},
   "source": [
    "# 캘리포니아 주택 가격 예측\n",
    "\n",
    "### 기본 정보\n",
    "\n",
    "- 인구, 중간소득 등의 특성을 사용하여 주택 가격 예측\n",
    "- 다중 회귀, 단방향 회귀(반대 : 다변량 회귀)\n",
    "    - 다중 회귀 : 여러 개의 특성을 이용한 회귀\n",
    "    - 단방향 회귀 : 하나의 데이터에 대한 예측\n",
    "    - 다변량 회귀 : 여러 개의 수치를 예측하기 위한 회귀\n",
    "- 회귀의 성능 측정 방법\n",
    "    - 평균 제곱근의 오차를 활용\n",
    "    - 평균 절대오차를 활용"
   ]
  }
 ],
 "metadata": {
  "kernelspec": {
   "display_name": ".venv",
   "language": "python",
   "name": "python3"
  },
  "language_info": {
   "name": "python",
   "version": "3.13.1"
  }
 },
 "nbformat": 4,
 "nbformat_minor": 2
}
