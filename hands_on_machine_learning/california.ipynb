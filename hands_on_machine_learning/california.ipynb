{
 "cells": [
  {
   "cell_type": "markdown",
   "metadata": {},
   "source": [
    "# 캘리포니아 주택 가격 예측\n",
    "\n",
    "### 기본 정보\n",
    "\n",
    "- 인구, 중간소득 등의 특성을 사용하여 주택 가격 예측\n",
    "- 다중 회귀, 단방향 회귀(반대 : 다변량 회귀)\n",
    "    - 다중 회귀 : 여러 개의 특성을 이용한 회귀\n",
    "    - 단방향 회귀 : 하나의 데이터에 대한 예측\n",
    "    - 다변량 회귀 : 여러 개의 수치를 예측하기 위한 회귀\n",
    "- 회귀의 성능 측정 방법\n",
    "    - 평균 제곱근의 오차를 활용\n",
    "    - 평균 절대오차를 활용"
   ]
  },
  {
   "cell_type": "markdown",
   "metadata": {},
   "source": [
    "- 일차적으로 파이썬 커널을 설정하면서 정상적으로 import가 되는지 체크해주었다. \n",
    "- 커널에 원하는 import 추가하는 법\n",
    "    1. `venv`로 커널을 생성해준다. \n",
    "    2. `source .venv/bin/activate`로 venv를 활성화해준다. \n",
    "    3. 내부에서 `pip install`로 원하는 라이브러리를 다운로드 받는다. "
   ]
  },
  {
   "cell_type": "code",
   "execution_count": 4,
   "metadata": {},
   "outputs": [
    {
     "name": "stderr",
     "output_type": "stream",
     "text": [
      "Matplotlib is building the font cache; this may take a moment.\n"
     ]
    }
   ],
   "source": [
    "import sys\n",
    "\n",
    "assert sys.version_info >= (3, 5)\n",
    "\n",
    "import sklearn\n",
    "\n",
    "assert sklearn.__version__ >= \"0.20\"\n",
    "\n",
    "import numpy as np\n",
    "import os\n",
    "\n",
    "import matplotlib as mpl\n",
    "import matplotlib.pyplot as plt\n",
    "\n",
    "mpl.rc('axes', labelsize=14)\n",
    "mpl.rc('xtick', labelsize=12)\n",
    "mpl.rc('ytick', labelsize=12)\n",
    "\n",
    "ROOT_DIR = '.'\n",
    "CHAPTER_ID = 'end_to_end_project'\n",
    "IMAGE_PATH = os.path.join(ROOT_DIR, 'images', CHAPTER_ID)\n",
    "os.makedirs(IMAGE_PATH, exist_ok=True)\n",
    "\n",
    "def save_fig(fig_id, tight_layout=True, fig_extension = 'png', resolution = 100): \n",
    "    path = os.path.join(IMAGE_PATH, fig_id + '.' + fig_extension)\n",
    "    print('그림 저장 : ', fig_id)\n",
    "\n",
    "    if tight_layout:\n",
    "        plt.tight_layout()\n",
    "    \n",
    "    plt.savefig(path, format=fig_extension, dpi=resolution)\n",
    "\n",
    "import warnings\n",
    "\n",
    "warnings.filterwarnings(action='ignore', message='^internal gelsd')\n"
   ]
  },
  {
   "cell_type": "markdown",
   "metadata": {},
   "source": [
    "# 데이터 가져오기"
   ]
  },
  {
   "cell_type": "code",
   "execution_count": 11,
   "metadata": {},
   "outputs": [],
   "source": [
    "import os\n",
    "import tarfile\n",
    "import urllib\n",
    "import urllib.request\n",
    "\n",
    "DOWNLOAD_ROOT = 'https://raw.githubusercontent.com/rickiepark/handson-ml2/master/'\n",
    "HOUSING_PATH = os.path.join('datasets', 'housing')\n",
    "HOUSING_URL = DOWNLOAD_ROOT + 'datasets/housing/housing.tgz'\n",
    "\n",
    "def fetch_housing_data(url = HOUSING_URL, path = HOUSING_PATH):\n",
    "    if not os.path.isdir(HOUSING_PATH):\n",
    "        os.makedirs(HOUSING_PATH)\n",
    "    \n",
    "    tgz_path = os.path.join(url, 'housing.tgz')\n",
    "    urllib.request.urlretrieve(url, tgz_path)\n",
    "    housing_tgz = tarfile.open(tgz_path)\n",
    "    housing_tgz.extractall(path=path)\n",
    "    housing_tgz.close()\n"
   ]
  },
  {
   "cell_type": "code",
   "execution_count": 12,
   "metadata": {},
   "outputs": [
    {
     "ename": "FileNotFoundError",
     "evalue": "[Errno 2] No such file or directory: 'https://raw.githubusercontent.com/rickiepark/handson-ml2/master/datasets/housing/housing.tgz/housing.tgz'",
     "output_type": "error",
     "traceback": [
      "\u001b[0;31m---------------------------------------------------------------------------\u001b[0m",
      "\u001b[0;31mFileNotFoundError\u001b[0m                         Traceback (most recent call last)",
      "Cell \u001b[0;32mIn[12], line 1\u001b[0m\n\u001b[0;32m----> 1\u001b[0m \u001b[43mfetch_housing_data\u001b[49m\u001b[43m(\u001b[49m\u001b[43m)\u001b[49m\n",
      "Cell \u001b[0;32mIn[11], line 15\u001b[0m, in \u001b[0;36mfetch_housing_data\u001b[0;34m(url, path)\u001b[0m\n\u001b[1;32m     12\u001b[0m     os\u001b[38;5;241m.\u001b[39mmakedirs(HOUSING_PATH)\n\u001b[1;32m     14\u001b[0m tgz_path \u001b[38;5;241m=\u001b[39m os\u001b[38;5;241m.\u001b[39mpath\u001b[38;5;241m.\u001b[39mjoin(url, \u001b[38;5;124m'\u001b[39m\u001b[38;5;124mhousing.tgz\u001b[39m\u001b[38;5;124m'\u001b[39m)\n\u001b[0;32m---> 15\u001b[0m \u001b[43murllib\u001b[49m\u001b[38;5;241;43m.\u001b[39;49m\u001b[43mrequest\u001b[49m\u001b[38;5;241;43m.\u001b[39;49m\u001b[43murlretrieve\u001b[49m\u001b[43m(\u001b[49m\u001b[43murl\u001b[49m\u001b[43m,\u001b[49m\u001b[43m \u001b[49m\u001b[43mtgz_path\u001b[49m\u001b[43m)\u001b[49m\n\u001b[1;32m     16\u001b[0m housing_tgz \u001b[38;5;241m=\u001b[39m tarfile\u001b[38;5;241m.\u001b[39mopen(tgz_path)\n\u001b[1;32m     17\u001b[0m housing_tgz\u001b[38;5;241m.\u001b[39mextractall(path\u001b[38;5;241m=\u001b[39mpath)\n",
      "File \u001b[0;32m/opt/homebrew/Cellar/python@3.13/3.13.1/Frameworks/Python.framework/Versions/3.13/lib/python3.13/urllib/request.py:224\u001b[0m, in \u001b[0;36murlretrieve\u001b[0;34m(url, filename, reporthook, data)\u001b[0m\n\u001b[1;32m    222\u001b[0m \u001b[38;5;66;03m# Handle temporary file setup.\u001b[39;00m\n\u001b[1;32m    223\u001b[0m \u001b[38;5;28;01mif\u001b[39;00m filename:\n\u001b[0;32m--> 224\u001b[0m     tfp \u001b[38;5;241m=\u001b[39m \u001b[38;5;28;43mopen\u001b[39;49m\u001b[43m(\u001b[49m\u001b[43mfilename\u001b[49m\u001b[43m,\u001b[49m\u001b[43m \u001b[49m\u001b[38;5;124;43m'\u001b[39;49m\u001b[38;5;124;43mwb\u001b[39;49m\u001b[38;5;124;43m'\u001b[39;49m\u001b[43m)\u001b[49m\n\u001b[1;32m    225\u001b[0m \u001b[38;5;28;01melse\u001b[39;00m:\n\u001b[1;32m    226\u001b[0m     tfp \u001b[38;5;241m=\u001b[39m tempfile\u001b[38;5;241m.\u001b[39mNamedTemporaryFile(delete\u001b[38;5;241m=\u001b[39m\u001b[38;5;28;01mFalse\u001b[39;00m)\n",
      "\u001b[0;31mFileNotFoundError\u001b[0m: [Errno 2] No such file or directory: 'https://raw.githubusercontent.com/rickiepark/handson-ml2/master/datasets/housing/housing.tgz/housing.tgz'"
     ]
    }
   ],
   "source": [
    "\n",
    "fetch_housing_data()"
   ]
  }
 ],
 "metadata": {
  "kernelspec": {
   "display_name": ".venv",
   "language": "python",
   "name": "python3"
  },
  "language_info": {
   "codemirror_mode": {
    "name": "ipython",
    "version": 3
   },
   "file_extension": ".py",
   "mimetype": "text/x-python",
   "name": "python",
   "nbconvert_exporter": "python",
   "pygments_lexer": "ipython3",
   "version": "3.13.1"
  }
 },
 "nbformat": 4,
 "nbformat_minor": 2
}
