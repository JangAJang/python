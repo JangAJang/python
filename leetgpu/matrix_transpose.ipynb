{
 "cells": [
  {
   "cell_type": "markdown",
   "id": "c63a9e50",
   "metadata": {},
   "source": []
  },
  {
   "cell_type": "markdown",
   "id": "a2e10413",
   "metadata": {},
   "source": [
    "# Matrix Transpose"
   ]
  },
  {
   "cell_type": "code",
   "execution_count": null,
   "id": "b16d7ea1",
   "metadata": {},
   "outputs": [],
   "source": [
    "import torch\n",
    "\n",
    "# input, output are tensors on the GPU\n",
    "def solve(input: torch.Tensor, output: torch.Tensor, rows: int, cols: int):\n",
    "    with torch.no_grad():\n",
    "        output.copy_(torch.einsum(\"ij->ji\",input))"
   ]
  },
  {
   "cell_type": "markdown",
   "id": "13464dd6",
   "metadata": {},
   "source": [
    "copy_로 행렬을 복사할 수 있다. \n",
    "`torch.einsum(\"ij->ji\", input)`이 무엇일까? \n",
    "`[i][j] -> [j][i]`로 옮긴다는 뜻"
   ]
  }
 ],
 "metadata": {
  "kernelspec": {
   "display_name": ".venv",
   "language": "python",
   "name": "python3"
  },
  "language_info": {
   "name": "python",
   "version": "3.13.5"
  }
 },
 "nbformat": 4,
 "nbformat_minor": 5
}
