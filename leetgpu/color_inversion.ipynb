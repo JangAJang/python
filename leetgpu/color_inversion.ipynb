{
 "cells": [
  {
   "cell_type": "markdown",
   "id": "1571e493",
   "metadata": {},
   "source": [
    "# Color Inversion"
   ]
  },
  {
   "cell_type": "code",
   "execution_count": 1,
   "id": "9a534466",
   "metadata": {},
   "outputs": [],
   "source": [
    "import torch\n",
    "\n",
    "def solve(image: list[int], width: int, height: int):\n",
    "    # Convert list to torch tensor\n",
    "    tensor = torch.tensor(image, dtype=torch.uint8)\n",
    "\n",
    "    # Reshape to (num_pixels, 4)\n",
    "    tensor = tensor.view(-1, 4)\n",
    "\n",
    "    # Invert RGB (index 0~2), keep Alpha (index 3)\n",
    "    rgb = tensor[:, :3]\n",
    "    alpha = tensor[:, 3]\n",
    "\n",
    "    inverted_rgb = 255 - rgb\n",
    "\n",
    "    # Concatenate inverted RGB and original Alpha\n",
    "    result = torch.cat((inverted_rgb, alpha.unsqueeze(1)), dim=1)\n",
    "\n",
    "    # Flatten and write back to original image list\n",
    "    image[:] = result.flatten().tolist()"
   ]
  },
  {
   "cell_type": "code",
   "execution_count": null,
   "id": "fcc205c6",
   "metadata": {},
   "outputs": [],
   "source": [
    "# Example 1\n",
    "img = [255, 0, 128, 255, 0, 255, 0, 255]\n",
    "solve(img, width=1, height=2)\n",
    "print(img)  # ✅ [0, 255, 127, 255, 255, 0, 255, 255]\n",
    "\n",
    "# Example 2\n",
    "img = [10, 20, 30, 255, 100, 150, 200, 255]\n",
    "solve(img, width=2, height=1)\n",
    "print(img)  # ✅ [245, 235, 225, 255, 155, 105, 55, 255]"
   ]
  }
 ],
 "metadata": {
  "kernelspec": {
   "display_name": ".venv",
   "language": "python",
   "name": "python3"
  },
  "language_info": {
   "codemirror_mode": {
    "name": "ipython",
    "version": 3
   },
   "file_extension": ".py",
   "mimetype": "text/x-python",
   "name": "python",
   "nbconvert_exporter": "python",
   "pygments_lexer": "ipython3",
   "version": "3.13.5"
  }
 },
 "nbformat": 4,
 "nbformat_minor": 5
}
