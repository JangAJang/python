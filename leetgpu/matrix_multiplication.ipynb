{
 "cells": [
  {
   "cell_type": "markdown",
   "id": "9bae608d",
   "metadata": {},
   "source": [
    "Matrix Multiplication"
   ]
  },
  {
   "cell_type": "code",
   "execution_count": 9,
   "id": "e84ea194",
   "metadata": {},
   "outputs": [],
   "source": [
    "import torch\n",
    "\n",
    "# A, B, C are tensors on the GPU\n",
    "def solve(A: torch.Tensor, B: torch.Tensor, C: torch.Tensor, M: int, N: int, K: int):\n",
    "    with torch.no_grad(): torch.mm(A, B, out=C)"
   ]
  },
  {
   "cell_type": "markdown",
   "id": "8047c213",
   "metadata": {},
   "source": [
    "검증"
   ]
  },
  {
   "cell_type": "code",
   "execution_count": 10,
   "id": "47784165",
   "metadata": {},
   "outputs": [
    {
     "name": "stdout",
     "output_type": "stream",
     "text": [
      "tensor([[19., 22.],\n",
      "        [43., 50.]])\n"
     ]
    }
   ],
   "source": [
    "A = torch.FloatTensor([[1, 2], [3, 4]])\n",
    "B = torch.FloatTensor([[5, 6], [7, 8]])\n",
    "C = torch.FloatTensor()\n",
    "\n",
    "solve(A, B, C, 2, 2, 2)\n",
    "\n",
    "print(C)"
   ]
  }
 ],
 "metadata": {
  "kernelspec": {
   "display_name": ".venv",
   "language": "python",
   "name": "python3"
  },
  "language_info": {
   "codemirror_mode": {
    "name": "ipython",
    "version": 3
   },
   "file_extension": ".py",
   "mimetype": "text/x-python",
   "name": "python",
   "nbconvert_exporter": "python",
   "pygments_lexer": "ipython3",
   "version": "3.13.5"
  }
 },
 "nbformat": 4,
 "nbformat_minor": 5
}
