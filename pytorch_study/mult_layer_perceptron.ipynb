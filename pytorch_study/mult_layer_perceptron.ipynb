{
 "cells": [
  {
   "cell_type": "markdown",
   "id": "87150be3",
   "metadata": {},
   "source": [
    "# Multi-layer Perceptron\n",
    "\n",
    "- `AND`, `OR` 연산에 대해서는 하나의 선으로 분류를 할 수 있었지만, `XOR`에서는 불가능함\n",
    "- `XOR`은 두 입력이 서로 다르면 1, 같으면 0을 반환한다. \n",
    "- 이는 하나의 선을 그리는 `perceptron`으로는 해결할 수 없는 문제이다. \n",
    "- 두개 이상의 perceptron을 이용하면 해결할 수 있다. \n",
    "- 그렇다면 이걸 어떻게 학습시킬 수 있을까? 기존의 `Neural Network`로는 학습시킬 수 없었다. \n",
    "- 그래서 `Backpropagation`이 만들어졌다.  "
   ]
  },
  {
   "cell_type": "markdown",
   "id": "be2eea50",
   "metadata": {},
   "source": [
    "## Backpropagation(역전파)\n",
    "\n",
    "- 입력 x가 들어왔을 떄, 결과값이 O와 실제 답인 GT간의 loss값을 최소화되게 가중치 w를 초기화시키는 방법\n",
    "- 그렇다면 loss값이 최소화된 w를 어떻게 구할까? -> loss를 w에 대해 미분했을 때, 그 값이 0이라면(기울기가 0이라면) 최대, 최소중 하나이다.\n",
    "\n",
    "### 예제\n",
    "\n",
    "f = wx + b라는 수식에서 wx 를 g로 선언한다면, \n",
    "f = g + b, g = w * x로 만들 수 있다. \n",
    "\n",
    "이 때 f에 w, x, b가 미치는 영향을 알기 위해서, f를 각 변수로 미분해준 값이 된다(gradient)\n",
    "\n",
    "이 때 실제 학습 데이터에서 가져온 값을 그래프에 입력시키는 forward propagation, \n",
    "이번에 학습한 back propagation이 진행된다. \n",
    "\n",
    "예시로 w = -2, x = 5, b = 3이라는 값을 입력받았다고 가정해보자. \n",
    "\n",
    "forward propagation = -2 * 5 + 3 = -7 로 구할 수 있다. \n",
    "\n",
    "back propagation을 위해 미분하고 입력값을 대입해보자. \n",
    "f를 미분한다 했을 때, \n",
    "w로 미분 -> f` = x -> 5\n",
    "x로 미분 -> f` = w -> -2\n",
    "b로 미분 -> f` = 1\n",
    "g로 미분 -> f` = 1\n",
    "\n",
    "\n",
    "아무리 복잡한 것들이더라도, 미분한 단순값만을 이용하게 된다. \n",
    "\n",
    "미분을 통해 알 수 있는 것이 무엇일까?\n",
    "> gradient이다. 이를 통해 loss를 줄이기 위해 각 변수를 얼마나 조정해야 할 지 알 수 있게 된다. \n",
    "\n"
   ]
  },
  {
   "cell_type": "code",
   "execution_count": 1,
   "id": "e3e2d225",
   "metadata": {},
   "outputs": [],
   "source": [
    "import torch\n",
    "import random"
   ]
  },
  {
   "cell_type": "code",
   "execution_count": 2,
   "id": "816ef7b9",
   "metadata": {},
   "outputs": [],
   "source": [
    "device = 'cuda' if torch.cuda.is_available() else 'cpu'\n",
    "\n",
    "random.seed(777)\n",
    "torch.manual_seed(777)\n",
    "if device == 'cuda':\n",
    "    torch.cuda.manual_seed_all(777)"
   ]
  },
  {
   "cell_type": "code",
   "execution_count": 3,
   "id": "6ad7974e",
   "metadata": {},
   "outputs": [],
   "source": [
    "X = torch.FloatTensor([[0, 0], [0, 1], [1, 0], [1, 1]]).to(device)\n",
    "Y = torch.FloatTensor([[0], [1], [1], [0]]).to(device)"
   ]
  },
  {
   "cell_type": "markdown",
   "id": "4faf05b9",
   "metadata": {},
   "source": [
    "- 여태까지 모델 학습을 할 때 따라적었던 backward, step을 썼던 것이 여기서 나온 것이다. \n",
    "- backward : backward propagation을 자동화시켜준다. \n",
    "- step : backward를 통해 나온 loss를 보고 lr에 맞게 w를 초기화시켜준다. "
   ]
  },
  {
   "cell_type": "code",
   "execution_count": 4,
   "id": "39623225",
   "metadata": {},
   "outputs": [],
   "source": [
    "linear1 = torch.nn.Linear(2, 2, bias=True)\n",
    "linear2 = torch.nn.Linear(2, 1, bias=True)\n",
    "\n",
    "sigmoid = torch.nn.Sigmoid()\n",
    "\n",
    "model = torch.nn.Sequential(linear1, sigmoid, linear2, sigmoid).to(device)"
   ]
  },
  {
   "cell_type": "code",
   "execution_count": 6,
   "id": "3e7dcb40",
   "metadata": {},
   "outputs": [
    {
     "name": "stdout",
     "output_type": "stream",
     "text": [
      "0 0.7434073090553284\n",
      "100 0.693165123462677\n",
      "200 0.6931577920913696\n",
      "300 0.6931517124176025\n",
      "400 0.6931463479995728\n",
      "500 0.6931411027908325\n",
      "600 0.6931357383728027\n",
      "700 0.6931294798851013\n",
      "800 0.6931220889091492\n",
      "900 0.6931126117706299\n",
      "1000 0.6930999755859375\n",
      "1100 0.693082332611084\n",
      "1200 0.6930569410324097\n",
      "1300 0.6930190324783325\n",
      "1400 0.6929606199264526\n",
      "1500 0.6928660273551941\n",
      "1600 0.6927032470703125\n",
      "1700 0.6923960447311401\n",
      "1800 0.6917302012443542\n",
      "1900 0.6899653673171997\n",
      "2000 0.6838315725326538\n",
      "2100 0.6561667919158936\n",
      "2200 0.4311023950576782\n",
      "2300 0.1348935067653656\n",
      "2400 0.06630442291498184\n",
      "2500 0.04216821491718292\n",
      "2600 0.0304538793861866\n",
      "2700 0.023665910586714745\n",
      "2800 0.01927776262164116\n",
      "2900 0.01622404158115387\n",
      "3000 0.013983809389173985\n",
      "3100 0.012273937463760376\n",
      "3200 0.010928120464086533\n",
      "3300 0.009842473082244396\n",
      "3400 0.00894902739673853\n",
      "3500 0.008201329968869686\n",
      "3600 0.007566755171865225\n",
      "3700 0.007021681405603886\n",
      "3800 0.006548586301505566\n",
      "3900 0.006134215742349625\n",
      "4000 0.005768367554992437\n",
      "4100 0.005443034693598747\n",
      "4200 0.00515189440920949\n",
      "4300 0.004889911040663719\n",
      "4400 0.00465287733823061\n",
      "4500 0.004437457304447889\n",
      "4600 0.004240859299898148\n",
      "4700 0.004060688428580761\n",
      "4800 0.0038950243033468723\n",
      "4900 0.003742202650755644\n",
      "5000 0.0036007286980748177\n",
      "5100 0.0034694781061261892\n",
      "5200 0.003347309771925211\n",
      "5300 0.0032333871349692345\n",
      "5400 0.0031268824823200703\n",
      "5500 0.0030270623974502087\n",
      "5600 0.002933346666395664\n",
      "5700 0.002845199778676033\n",
      "5800 0.002762150252237916\n",
      "5900 0.00268378178589046\n",
      "6000 0.0026096513029187918\n",
      "6100 0.0025394789408892393\n",
      "6200 0.0024729506112635136\n",
      "6300 0.002409761305898428\n",
      "6400 0.002349694026634097\n",
      "6500 0.0022925594821572304\n",
      "6600 0.002238068962469697\n",
      "6700 0.0021860888227820396\n",
      "6800 0.0021364721469581127\n",
      "6900 0.0020890086889266968\n",
      "7000 0.0020436227787286043\n",
      "7100 0.0020001279190182686\n",
      "7200 0.0019584274850785732\n",
      "7300 0.0019184047123417258\n",
      "7400 0.0018799989484250546\n",
      "7500 0.0018430722411721945\n",
      "7600 0.0018075518310070038\n",
      "7700 0.001773355295881629\n",
      "7800 0.0017404229147359729\n",
      "7900 0.0017087104497477412\n",
      "8000 0.0016780970618128777\n",
      "8100 0.0016485503874719143\n",
      "8200 0.0016200074460357428\n",
      "8300 0.0015924405306577682\n",
      "8400 0.0015657986514270306\n",
      "8500 0.0015400208067148924\n",
      "8600 0.0015150571707636118\n",
      "8700 0.0014909175224602222\n",
      "8800 0.001467489404603839\n",
      "8900 0.0014448156580328941\n",
      "9000 0.0014228185173124075\n",
      "9100 0.0014014800544828176\n",
      "9200 0.001380695030093193\n",
      "9300 0.0013605989515781403\n",
      "9400 0.0013410565443336964\n",
      "9500 0.0013220260152593255\n",
      "9600 0.001303555560298264\n",
      "9700 0.0012856299290433526\n",
      "9800 0.0012681190855801105\n",
      "9900 0.0012511087115854025\n",
      "10000 0.0012345181312412024\n"
     ]
    }
   ],
   "source": [
    "criterion = torch.nn.BCELoss().to(device)\n",
    "optimizer = torch.optim.SGD(model.parameters(), lr=1)\n",
    "\n",
    "for step in range(10001):\n",
    "    optimizer.zero_grad()\n",
    "    hypothesis = model(X)\n",
    "    cost = criterion(hypothesis, Y)\n",
    "    cost.backward()\n",
    "    optimizer.step()\n",
    "    if step % 100 == 0:\n",
    "        print(step, cost.item())"
   ]
  },
  {
   "cell_type": "markdown",
   "id": "c96bd680",
   "metadata": {},
   "source": [
    "- Layer를 더 많게 한 상태에서 MLP를 동작시키면 어떨까?"
   ]
  },
  {
   "cell_type": "code",
   "execution_count": null,
   "id": "88ed3a2f",
   "metadata": {},
   "outputs": [
    {
     "ename": "ValueError",
     "evalue": "Using a target size (torch.Size([4, 1])) that is different to the input size (torch.Size([4, 10])) is deprecated. Please ensure they have the same size.",
     "output_type": "error",
     "traceback": [
      "\u001b[1;31m---------------------------------------------------------------------------\u001b[0m",
      "\u001b[1;31mValueError\u001b[0m                                Traceback (most recent call last)",
      "Cell \u001b[1;32mIn[7], line 16\u001b[0m\n\u001b[0;32m     14\u001b[0m optimizer\u001b[38;5;241m.\u001b[39mzero_grad()\n\u001b[0;32m     15\u001b[0m hypothesis \u001b[38;5;241m=\u001b[39m model(X)\n\u001b[1;32m---> 16\u001b[0m cost \u001b[38;5;241m=\u001b[39m \u001b[43mcriterion\u001b[49m\u001b[43m(\u001b[49m\u001b[43mhypothesis\u001b[49m\u001b[43m,\u001b[49m\u001b[43m \u001b[49m\u001b[43mY\u001b[49m\u001b[43m)\u001b[49m\n\u001b[0;32m     17\u001b[0m cost\u001b[38;5;241m.\u001b[39mbackward()\n\u001b[0;32m     18\u001b[0m optimizer\u001b[38;5;241m.\u001b[39mstep()\n",
      "File \u001b[1;32mc:\\Users\\muhayuleejanghee\\Desktop\\study\\.venv\\Lib\\site-packages\\torch\\nn\\modules\\module.py:1751\u001b[0m, in \u001b[0;36mModule._wrapped_call_impl\u001b[1;34m(self, *args, **kwargs)\u001b[0m\n\u001b[0;32m   1749\u001b[0m     \u001b[38;5;28;01mreturn\u001b[39;00m \u001b[38;5;28mself\u001b[39m\u001b[38;5;241m.\u001b[39m_compiled_call_impl(\u001b[38;5;241m*\u001b[39margs, \u001b[38;5;241m*\u001b[39m\u001b[38;5;241m*\u001b[39mkwargs)  \u001b[38;5;66;03m# type: ignore[misc]\u001b[39;00m\n\u001b[0;32m   1750\u001b[0m \u001b[38;5;28;01melse\u001b[39;00m:\n\u001b[1;32m-> 1751\u001b[0m     \u001b[38;5;28;01mreturn\u001b[39;00m \u001b[38;5;28;43mself\u001b[39;49m\u001b[38;5;241;43m.\u001b[39;49m\u001b[43m_call_impl\u001b[49m\u001b[43m(\u001b[49m\u001b[38;5;241;43m*\u001b[39;49m\u001b[43margs\u001b[49m\u001b[43m,\u001b[49m\u001b[43m \u001b[49m\u001b[38;5;241;43m*\u001b[39;49m\u001b[38;5;241;43m*\u001b[39;49m\u001b[43mkwargs\u001b[49m\u001b[43m)\u001b[49m\n",
      "File \u001b[1;32mc:\\Users\\muhayuleejanghee\\Desktop\\study\\.venv\\Lib\\site-packages\\torch\\nn\\modules\\module.py:1762\u001b[0m, in \u001b[0;36mModule._call_impl\u001b[1;34m(self, *args, **kwargs)\u001b[0m\n\u001b[0;32m   1757\u001b[0m \u001b[38;5;66;03m# If we don't have any hooks, we want to skip the rest of the logic in\u001b[39;00m\n\u001b[0;32m   1758\u001b[0m \u001b[38;5;66;03m# this function, and just call forward.\u001b[39;00m\n\u001b[0;32m   1759\u001b[0m \u001b[38;5;28;01mif\u001b[39;00m \u001b[38;5;129;01mnot\u001b[39;00m (\u001b[38;5;28mself\u001b[39m\u001b[38;5;241m.\u001b[39m_backward_hooks \u001b[38;5;129;01mor\u001b[39;00m \u001b[38;5;28mself\u001b[39m\u001b[38;5;241m.\u001b[39m_backward_pre_hooks \u001b[38;5;129;01mor\u001b[39;00m \u001b[38;5;28mself\u001b[39m\u001b[38;5;241m.\u001b[39m_forward_hooks \u001b[38;5;129;01mor\u001b[39;00m \u001b[38;5;28mself\u001b[39m\u001b[38;5;241m.\u001b[39m_forward_pre_hooks\n\u001b[0;32m   1760\u001b[0m         \u001b[38;5;129;01mor\u001b[39;00m _global_backward_pre_hooks \u001b[38;5;129;01mor\u001b[39;00m _global_backward_hooks\n\u001b[0;32m   1761\u001b[0m         \u001b[38;5;129;01mor\u001b[39;00m _global_forward_hooks \u001b[38;5;129;01mor\u001b[39;00m _global_forward_pre_hooks):\n\u001b[1;32m-> 1762\u001b[0m     \u001b[38;5;28;01mreturn\u001b[39;00m \u001b[43mforward_call\u001b[49m\u001b[43m(\u001b[49m\u001b[38;5;241;43m*\u001b[39;49m\u001b[43margs\u001b[49m\u001b[43m,\u001b[49m\u001b[43m \u001b[49m\u001b[38;5;241;43m*\u001b[39;49m\u001b[38;5;241;43m*\u001b[39;49m\u001b[43mkwargs\u001b[49m\u001b[43m)\u001b[49m\n\u001b[0;32m   1764\u001b[0m result \u001b[38;5;241m=\u001b[39m \u001b[38;5;28;01mNone\u001b[39;00m\n\u001b[0;32m   1765\u001b[0m called_always_called_hooks \u001b[38;5;241m=\u001b[39m \u001b[38;5;28mset\u001b[39m()\n",
      "File \u001b[1;32mc:\\Users\\muhayuleejanghee\\Desktop\\study\\.venv\\Lib\\site-packages\\torch\\nn\\modules\\loss.py:699\u001b[0m, in \u001b[0;36mBCELoss.forward\u001b[1;34m(self, input, target)\u001b[0m\n\u001b[0;32m    698\u001b[0m \u001b[38;5;28;01mdef\u001b[39;00m\u001b[38;5;250m \u001b[39m\u001b[38;5;21mforward\u001b[39m(\u001b[38;5;28mself\u001b[39m, \u001b[38;5;28minput\u001b[39m: Tensor, target: Tensor) \u001b[38;5;241m-\u001b[39m\u001b[38;5;241m>\u001b[39m Tensor:\n\u001b[1;32m--> 699\u001b[0m     \u001b[38;5;28;01mreturn\u001b[39;00m \u001b[43mF\u001b[49m\u001b[38;5;241;43m.\u001b[39;49m\u001b[43mbinary_cross_entropy\u001b[49m\u001b[43m(\u001b[49m\n\u001b[0;32m    700\u001b[0m \u001b[43m        \u001b[49m\u001b[38;5;28;43minput\u001b[39;49m\u001b[43m,\u001b[49m\u001b[43m \u001b[49m\u001b[43mtarget\u001b[49m\u001b[43m,\u001b[49m\u001b[43m \u001b[49m\u001b[43mweight\u001b[49m\u001b[38;5;241;43m=\u001b[39;49m\u001b[38;5;28;43mself\u001b[39;49m\u001b[38;5;241;43m.\u001b[39;49m\u001b[43mweight\u001b[49m\u001b[43m,\u001b[49m\u001b[43m \u001b[49m\u001b[43mreduction\u001b[49m\u001b[38;5;241;43m=\u001b[39;49m\u001b[38;5;28;43mself\u001b[39;49m\u001b[38;5;241;43m.\u001b[39;49m\u001b[43mreduction\u001b[49m\n\u001b[0;32m    701\u001b[0m \u001b[43m    \u001b[49m\u001b[43m)\u001b[49m\n",
      "File \u001b[1;32mc:\\Users\\muhayuleejanghee\\Desktop\\study\\.venv\\Lib\\site-packages\\torch\\nn\\functional.py:3560\u001b[0m, in \u001b[0;36mbinary_cross_entropy\u001b[1;34m(input, target, weight, size_average, reduce, reduction)\u001b[0m\n\u001b[0;32m   3558\u001b[0m     reduction_enum \u001b[38;5;241m=\u001b[39m _Reduction\u001b[38;5;241m.\u001b[39mget_enum(reduction)\n\u001b[0;32m   3559\u001b[0m \u001b[38;5;28;01mif\u001b[39;00m target\u001b[38;5;241m.\u001b[39msize() \u001b[38;5;241m!=\u001b[39m \u001b[38;5;28minput\u001b[39m\u001b[38;5;241m.\u001b[39msize():\n\u001b[1;32m-> 3560\u001b[0m     \u001b[38;5;28;01mraise\u001b[39;00m \u001b[38;5;167;01mValueError\u001b[39;00m(\n\u001b[0;32m   3561\u001b[0m         \u001b[38;5;124mf\u001b[39m\u001b[38;5;124m\"\u001b[39m\u001b[38;5;124mUsing a target size (\u001b[39m\u001b[38;5;132;01m{\u001b[39;00mtarget\u001b[38;5;241m.\u001b[39msize()\u001b[38;5;132;01m}\u001b[39;00m\u001b[38;5;124m) that is different to the input size (\u001b[39m\u001b[38;5;132;01m{\u001b[39;00m\u001b[38;5;28minput\u001b[39m\u001b[38;5;241m.\u001b[39msize()\u001b[38;5;132;01m}\u001b[39;00m\u001b[38;5;124m) is deprecated. \u001b[39m\u001b[38;5;124m\"\u001b[39m\n\u001b[0;32m   3562\u001b[0m         \u001b[38;5;124m\"\u001b[39m\u001b[38;5;124mPlease ensure they have the same size.\u001b[39m\u001b[38;5;124m\"\u001b[39m\n\u001b[0;32m   3563\u001b[0m     )\n\u001b[0;32m   3565\u001b[0m \u001b[38;5;28;01mif\u001b[39;00m weight \u001b[38;5;129;01mis\u001b[39;00m \u001b[38;5;129;01mnot\u001b[39;00m \u001b[38;5;28;01mNone\u001b[39;00m:\n\u001b[0;32m   3566\u001b[0m     new_size \u001b[38;5;241m=\u001b[39m _infer_size(target\u001b[38;5;241m.\u001b[39msize(), weight\u001b[38;5;241m.\u001b[39msize())\n",
      "\u001b[1;31mValueError\u001b[0m: Using a target size (torch.Size([4, 1])) that is different to the input size (torch.Size([4, 10])) is deprecated. Please ensure they have the same size."
     ]
    }
   ],
   "source": [
    "linear1 = torch.nn.Linear(2, 10, bias=True)\n",
    "linear2 = torch.nn.Linear(10, 10, bias=True)\n",
    "linear3 = torch.nn.Linear(10, 10, bias=True)\n",
    "linear4 = torch.nn.Linear(10, 1, bias=True)\n",
    "\n",
    "sigmoid = torch.nn.Sigmoid()\n",
    "\n",
    "model = torch.nn.Sequential(linear1, sigmoid, linear2, sigmoid, linear3, sigmoid, linear4, sigmoid).to(device)\n",
    "\n",
    "criterion = torch.nn.BCELoss().to(device)\n",
    "optimizer = torch.optim.SGD(model.parameters(), lr=1)\n",
    "\n",
    "for step in range(10001):\n",
    "    optimizer.zero_grad()\n",
    "    hypothesis = model(X)\n",
    "    cost = criterion(hypothesis, Y)\n",
    "    cost.backward()\n",
    "    optimizer.step()\n",
    "    if step % 100 == 0:\n",
    "        print(step, cost.item())"
   ]
  }
 ],
 "metadata": {
  "kernelspec": {
   "display_name": ".venv",
   "language": "python",
   "name": "python3"
  },
  "language_info": {
   "codemirror_mode": {
    "name": "ipython",
    "version": 3
   },
   "file_extension": ".py",
   "mimetype": "text/x-python",
   "name": "python",
   "nbconvert_exporter": "python",
   "pygments_lexer": "ipython3",
   "version": "3.13.2"
  }
 },
 "nbformat": 4,
 "nbformat_minor": 5
}
