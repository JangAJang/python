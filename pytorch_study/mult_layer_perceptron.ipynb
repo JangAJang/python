{
 "cells": [
  {
   "cell_type": "markdown",
   "id": "87150be3",
   "metadata": {},
   "source": [
    "# Multi-layer Perceptron\n",
    "\n",
    "- `AND`, `OR` 연산에 대해서는 하나의 선으로 분류를 할 수 있었지만, `XOR`에서는 불가능함\n",
    "- 이를 위해 하나의 선을 더 이용해서 분류가 가능하게 됨\n",
    "\n",
    "## Backpropagation(역전파)\n",
    "\n",
    "- 입력 x가 들어왔을 떄, 중간에 `hidden layer`를 추가해 오차범위를 관리하는 방식"
   ]
  }
 ],
 "metadata": {
  "kernelspec": {
   "display_name": ".venv",
   "language": "python",
   "name": "python3"
  },
  "language_info": {
   "name": "python",
   "version": "3.13.1"
  }
 },
 "nbformat": 4,
 "nbformat_minor": 5
}
