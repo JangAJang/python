{
 "cells": [
  {
   "cell_type": "markdown",
   "id": "432bcdbe",
   "metadata": {},
   "source": [
    "# Softmax Classification\n",
    "\n",
    "- softmax\n",
    "- cross entropy\n",
    "- low-level implementation\n",
    "- high-level implementation\n",
    "- training example"
   ]
  },
  {
   "cell_type": "code",
   "execution_count": 7,
   "id": "0bd679f4",
   "metadata": {},
   "outputs": [
    {
     "data": {
      "text/plain": [
       "<torch._C.Generator at 0x10f7224d0>"
      ]
     },
     "execution_count": 7,
     "metadata": {},
     "output_type": "execute_result"
    }
   ],
   "source": [
    "import torch\n",
    "import torch.nn as nn\n",
    "import torch.nn.functional as F\n",
    "import torch.optim as optim\n",
    "\n",
    "torch.manual_seed(1)"
   ]
  },
  {
   "cell_type": "markdown",
   "id": "c899e625",
   "metadata": {},
   "source": [
    "## Discrete Probability Distribution (이산확률분포)\n",
    "\n",
    "- 이산확률분포란, 확률분포함수가 이어지지 않는 방식으로 나온다\n",
    "- 즉 a, c, e라는 x가 존재할 때 a와 c 사이의 b에 대한 확률이 존재하지 않게 된다. \n",
    "- 이런 이산확률분포에서 특정 값에 대한 예측을 진행하는 것이 softmax 함수이다. "
   ]
  },
  {
   "cell_type": "code",
   "execution_count": 8,
   "id": "de2a5c7c",
   "metadata": {},
   "outputs": [
    {
     "name": "stdout",
     "output_type": "stream",
     "text": [
      "tensor([0.0900, 0.2447, 0.6652])\n"
     ]
    }
   ],
   "source": [
    "z = torch.FloatTensor([1, 2, 3])\n",
    "\n",
    "hypothesis = F.softmax(z, dim=0)\n",
    "print(hypothesis)"
   ]
  },
  {
   "cell_type": "code",
   "execution_count": 9,
   "id": "19220a0a",
   "metadata": {},
   "outputs": [
    {
     "data": {
      "text/plain": [
       "tensor(1.)"
      ]
     },
     "execution_count": 9,
     "metadata": {},
     "output_type": "execute_result"
    }
   ],
   "source": [
    "hypothesis.sum()"
   ]
  },
  {
   "cell_type": "markdown",
   "id": "cab90f1b",
   "metadata": {},
   "source": [
    "## Cross Entropy Loss(Low Level)\n",
    "\n",
    "- 두 분포 사이의 차이를 측정하는데 활용한다. \n",
    "- classification에서 모델이 예측한 확률 분포와 실제 확률 분포의 차이를 확인할 때 사용한다. \n",
    "- CE(p, q) = - Σ y * log(Y) (y = 실제 정답, Y = 모델이 예측한 확률) = - Σ p(x) log( q(x) )\n",
    "- 정답에 가까울 수록 loss가 작아진다"
   ]
  },
  {
   "cell_type": "code",
   "execution_count": 10,
   "id": "f5b6a8a7",
   "metadata": {},
   "outputs": [
    {
     "name": "stdout",
     "output_type": "stream",
     "text": [
      "tensor([[0.2645, 0.1639, 0.1855, 0.2585, 0.1277],\n",
      "        [0.2430, 0.1624, 0.2322, 0.1930, 0.1694],\n",
      "        [0.2226, 0.1986, 0.2326, 0.1594, 0.1868]], grad_fn=<SoftmaxBackward0>)\n"
     ]
    }
   ],
   "source": [
    "z = torch.rand(3, 5, requires_grad=True)\n",
    "hypothesis = F.softmax(z, dim=1)\n",
    "print(hypothesis)"
   ]
  },
  {
   "cell_type": "code",
   "execution_count": 11,
   "id": "128774c9",
   "metadata": {},
   "outputs": [
    {
     "name": "stdout",
     "output_type": "stream",
     "text": [
      "tensor([0, 2, 1])\n"
     ]
    }
   ],
   "source": [
    "y = torch.randint(5, (3, )).long()\n",
    "print(y)"
   ]
  },
  {
   "cell_type": "markdown",
   "id": "17eb1eb6",
   "metadata": {},
   "source": [
    "## Cross Entropy Loss(Low-level)\n",
    "\n",
    "discrete한 확률분포기 때문에 one-hot 벡터로 표현할 수 있다. \n",
    "\n",
    "> 왜 discrete한데 one-hot 벡터로 표현할까? \n",
    "> one-hot vector : 오직 하나의 차원만 1로 표현된 벡터(나머지는 0이다)\n",
    "> 이산확률분포(discrete) : 각 값이 a, b, c, d중 하나에 해당된다. 이를 차원으로 만들어 (an, bn, cn, dn)의 벡터로 만들어 각 값에 따라 one-hot vector로 만들 수 있는 것이다. "
   ]
  },
  {
   "cell_type": "code",
   "execution_count": 12,
   "id": "dc2a3ae6",
   "metadata": {},
   "outputs": [
    {
     "data": {
      "text/plain": [
       "tensor([[1., 0., 0., 0., 0.],\n",
       "        [0., 0., 1., 0., 0.],\n",
       "        [0., 1., 0., 0., 0.]])"
      ]
     },
     "execution_count": 12,
     "metadata": {},
     "output_type": "execute_result"
    }
   ],
   "source": [
    "y_one_hot = torch.zeros_like(hypothesis)\n",
    "y_one_hot.scatter_(1, y.unsqueeze(1), 1)"
   ]
  },
  {
   "cell_type": "markdown",
   "id": "3ce8820b",
   "metadata": {},
   "source": [
    "one-hot을 만들기 위해 모두 0인 벡터를 만든다. \n",
    "y 레이블을 보고 해당 위치에 1을 찍어서 one-hot vector를 채운다. "
   ]
  },
  {
   "cell_type": "code",
   "execution_count": 13,
   "id": "06dca58c",
   "metadata": {},
   "outputs": [
    {
     "name": "stdout",
     "output_type": "stream",
     "text": [
      "tensor(1.4689, grad_fn=<MeanBackward0>)\n"
     ]
    }
   ],
   "source": [
    "cost = (y_one_hot * -torch.log(hypothesis)).sum(dim=1).mean()\n",
    "print(cost)"
   ]
  },
  {
   "cell_type": "markdown",
   "id": "ce5730df",
   "metadata": {},
   "source": [
    "꼭 위의 방식으로 다 할 필요는 없다. `torch.nn.functional` 라이브러리를 이용해 이를 단순화시킬 수 있다"
   ]
  },
  {
   "cell_type": "code",
   "execution_count": null,
   "id": "7d8c810d",
   "metadata": {},
   "outputs": [
    {
     "data": {
      "text/plain": [
       "tensor([[-1.3301, -1.8084, -1.6846, -1.3530, -2.0584],\n",
       "        [-1.4147, -1.8174, -1.4602, -1.6450, -1.7758],\n",
       "        [-1.5025, -1.6165, -1.4586, -1.8360, -1.6776]], grad_fn=<LogBackward0>)"
      ]
     },
     "execution_count": 14,
     "metadata": {},
     "output_type": "execute_result"
    }
   ],
   "source": [
    "torch.log(F.softmax(z, dim = 1))"
   ]
  },
  {
   "cell_type": "code",
   "execution_count": 15,
   "id": "bf16c59f",
   "metadata": {},
   "outputs": [
    {
     "data": {
      "text/plain": [
       "tensor([[-1.3301, -1.8084, -1.6846, -1.3530, -2.0584],\n",
       "        [-1.4147, -1.8174, -1.4602, -1.6450, -1.7758],\n",
       "        [-1.5025, -1.6165, -1.4586, -1.8360, -1.6776]],\n",
       "       grad_fn=<LogSoftmaxBackward0>)"
      ]
     },
     "execution_count": 15,
     "metadata": {},
     "output_type": "execute_result"
    }
   ],
   "source": [
    "F.log_softmax(z, dim=1)"
   ]
  },
  {
   "cell_type": "code",
   "execution_count": 16,
   "id": "79b47d9d",
   "metadata": {},
   "outputs": [
    {
     "name": "stdout",
     "output_type": "stream",
     "text": [
      "tensor(1.4689, grad_fn=<MeanBackward0>)\n"
     ]
    },
    {
     "data": {
      "text/plain": [
       "tensor(1.4689, grad_fn=<NllLossBackward0>)"
      ]
     },
     "execution_count": 16,
     "metadata": {},
     "output_type": "execute_result"
    }
   ],
   "source": [
    "print(cost)\n",
    "\n",
    "F.nll_loss(F.log_softmax(z, dim=1), y)"
   ]
  },
  {
   "cell_type": "markdown",
   "id": "9e6f78bf",
   "metadata": {},
   "source": [
    "`(y_one_hot * -torch.log(hypothesis)).sum(dim=1).mean()` 로 힘들게 표현할 필요도 없다. \n",
    "여기에서 nll은 `negative log likelihood`의 약자이다. "
   ]
  },
  {
   "cell_type": "code",
   "execution_count": 17,
   "id": "e7f46993",
   "metadata": {},
   "outputs": [
    {
     "data": {
      "text/plain": [
       "tensor(1.4689, grad_fn=<NllLossBackward0>)"
      ]
     },
     "execution_count": 17,
     "metadata": {},
     "output_type": "execute_result"
    }
   ],
   "source": [
    "F.cross_entropy(z, y)"
   ]
  },
  {
   "cell_type": "markdown",
   "id": "d11ac23f",
   "metadata": {},
   "source": [
    "## Training with Low-level Cross Entropy Loss"
   ]
  },
  {
   "cell_type": "code",
   "execution_count": 19,
   "id": "420adb7d",
   "metadata": {},
   "outputs": [],
   "source": [
    "x_train = [[1, 2, 1, 1],\n",
    "           [2, 1, 3, 2],\n",
    "           [3, 1, 3, 4],\n",
    "           [4, 1, 5, 5],\n",
    "           [1, 7, 5, 5], \n",
    "           [1, 2, 5, 6],\n",
    "           [1, 6, 6, 6],\n",
    "           [1, 7, 7, 7]]\n",
    "\n",
    "y_train = [2, 2, 2, 1, 1, 1, 0, 0]\n",
    "\n",
    "x_train = torch.FloatTensor(x_train)\n",
    "y_train = torch.LongTensor(y_train)"
   ]
  },
  {
   "cell_type": "markdown",
   "id": "9506b8f6",
   "metadata": {},
   "source": [
    "|x_train| = (m, 4)\n",
    "|y_train| = (m,)\n",
    "\n",
    "4차원의 어떤 벡터를 받아서 어떤 class인지 예측할 수 있어야 한다. \n",
    "y = x를 one hot vector로 만들었을 때 1의 인덱스값"
   ]
  },
  {
   "cell_type": "code",
   "execution_count": 24,
   "id": "1a2c876b",
   "metadata": {},
   "outputs": [
    {
     "name": "stdout",
     "output_type": "stream",
     "text": [
      "Epoch    0 / 1000 Cost : 1.098612\n",
      "Epoch  100 / 1000 Cost : 0.901535\n",
      "Epoch  200 / 1000 Cost : 0.839114\n",
      "Epoch  300 / 1000 Cost : 0.807826\n",
      "Epoch  400 / 1000 Cost : 0.788472\n",
      "Epoch  500 / 1000 Cost : 0.774822\n",
      "Epoch  600 / 1000 Cost : 0.764449\n",
      "Epoch  700 / 1000 Cost : 0.756191\n",
      "Epoch  800 / 1000 Cost : 0.749398\n",
      "Epoch  900 / 1000 Cost : 0.743671\n",
      "Epoch 1000 / 1000 Cost : 0.738749\n"
     ]
    }
   ],
   "source": [
    "W = torch.zeros((4, 3), requires_grad=True)\n",
    "b = torch.zeros(1, requires_grad=True)\n",
    "\n",
    "optimizer = optim.SGD([W, b], lr=0.1)\n",
    "\n",
    "nb_epochs = 1000\n",
    "\n",
    "for epoch in range(nb_epochs+1):\n",
    "    hypothesis = F.softmax(x_train.matmul(W) + b, dim=1)\n",
    "    y_one_hot = torch.zeros_like(hypothesis)\n",
    "    y_one_hot.scatter_(1, y_train.unsqueeze(1), 1)\n",
    "    cost = (y_one_hot * -torch.log(F.softmax(hypothesis, dim=1))).sum(dim=1).mean()\n",
    "\n",
    "    optimizer.zero_grad()\n",
    "    cost.backward()\n",
    "    optimizer.step()\n",
    "\n",
    "    if epoch % 100 == 0:\n",
    "        print('Epoch {:4d} / {} Cost : {:6f}'.format(epoch, nb_epochs, cost.item()))"
   ]
  },
  {
   "cell_type": "markdown",
   "id": "4189f3b3",
   "metadata": {},
   "source": [
    "샘플수 : m, class : 3, dim : 4\n",
    "\n",
    "현재 4 -> 3으로 가는 linear layer를 만든 상태\n",
    "\n",
    "근데 이거보다 쉽게 만들어보자."
   ]
  },
  {
   "cell_type": "code",
   "execution_count": 25,
   "id": "0e5e4b26",
   "metadata": {},
   "outputs": [
    {
     "name": "stdout",
     "output_type": "stream",
     "text": [
      "Epoch    0 / 1000 Cost : 1.098612\n",
      "Epoch  100 / 1000 Cost : 0.761050\n",
      "Epoch  200 / 1000 Cost : 0.689991\n",
      "Epoch  300 / 1000 Cost : 0.643229\n",
      "Epoch  400 / 1000 Cost : 0.604117\n",
      "Epoch  500 / 1000 Cost : 0.568255\n",
      "Epoch  600 / 1000 Cost : 0.533922\n",
      "Epoch  700 / 1000 Cost : 0.500291\n",
      "Epoch  800 / 1000 Cost : 0.466908\n",
      "Epoch  900 / 1000 Cost : 0.433507\n",
      "Epoch 1000 / 1000 Cost : 0.399962\n"
     ]
    }
   ],
   "source": [
    "W = torch.zeros((4, 3), requires_grad=True)\n",
    "b = torch.zeros(1, requires_grad=True)\n",
    "\n",
    "optimizer = optim.SGD([W, b], lr=0.1)\n",
    "\n",
    "nb_epochs = 1000\n",
    "\n",
    "for epoch in range(nb_epochs+1):\n",
    "    z = x_train.matmul(W) + b\n",
    "    cost = F.cross_entropy(z, y_train)\n",
    "\n",
    "    optimizer.zero_grad()\n",
    "    cost.backward()\n",
    "    optimizer.step()\n",
    "\n",
    "    if epoch % 100 == 0:\n",
    "        print('Epoch {:4d} / {} Cost : {:6f}'.format(epoch, nb_epochs, cost.item()))"
   ]
  },
  {
   "cell_type": "markdown",
   "id": "0ac9c0de",
   "metadata": {},
   "source": [
    "이렇게 위의 방식보다 간단하게 cross_entropy를 이용한 모델 학습을 할 수 있다. \n",
    "그런데, `nn.Module`를 이용하면 이것 보다 단순하게 할 수 있을까?"
   ]
  },
  {
   "cell_type": "code",
   "execution_count": 26,
   "id": "1d8b1fa5",
   "metadata": {},
   "outputs": [],
   "source": [
    "class SoftmaxClassifierModel(nn.Module):\n",
    "    def __init__(self):\n",
    "        super().__init__()\n",
    "        self.linear = nn.Linear(4, 3) # 위에서 말한대로 4 -> 3으로 바꾸기 때문에\n",
    "\n",
    "    def forward(self, x):\n",
    "        return self.linear(x)"
   ]
  },
  {
   "cell_type": "code",
   "execution_count": 28,
   "id": "1ab9bf97",
   "metadata": {},
   "outputs": [],
   "source": [
    "model = SoftmaxClassifierModel()"
   ]
  },
  {
   "cell_type": "code",
   "execution_count": 29,
   "id": "2bb75fd9",
   "metadata": {},
   "outputs": [
    {
     "name": "stdout",
     "output_type": "stream",
     "text": [
      "Epoch    0 / 1000 Cost : 1.845720\n",
      "Epoch  100 / 1000 Cost : 0.647150\n",
      "Epoch  200 / 1000 Cost : 0.568868\n",
      "Epoch  300 / 1000 Cost : 0.515699\n",
      "Epoch  400 / 1000 Cost : 0.471727\n",
      "Epoch  500 / 1000 Cost : 0.432487\n",
      "Epoch  600 / 1000 Cost : 0.395879\n",
      "Epoch  700 / 1000 Cost : 0.360507\n",
      "Epoch  800 / 1000 Cost : 0.325228\n",
      "Epoch  900 / 1000 Cost : 0.289217\n",
      "Epoch 1000 / 1000 Cost : 0.254086\n"
     ]
    }
   ],
   "source": [
    "optimizer = optim.SGD(model.parameters(), lr=0.1)\n",
    "\n",
    "nb_epochs = 1000\n",
    "\n",
    "for epoch in range(nb_epochs+1):\n",
    "    prediction = model(x_train)\n",
    "    cost = F.cross_entropy(prediction, y_train)\n",
    "    optimizer.zero_grad()\n",
    "    cost.backward()\n",
    "    optimizer.step()\n",
    "\n",
    "    if epoch % 100 == 0:\n",
    "        print('Epoch {:4d} / {} Cost : {:6f}'.format(epoch, nb_epochs, cost.item()))"
   ]
  }
 ],
 "metadata": {
  "kernelspec": {
   "display_name": ".venv",
   "language": "python",
   "name": "python3"
  },
  "language_info": {
   "codemirror_mode": {
    "name": "ipython",
    "version": 3
   },
   "file_extension": ".py",
   "mimetype": "text/x-python",
   "name": "python",
   "nbconvert_exporter": "python",
   "pygments_lexer": "ipython3",
   "version": "3.13.1"
  }
 },
 "nbformat": 4,
 "nbformat_minor": 5
}
