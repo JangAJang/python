{
 "cells": [
  {
   "cell_type": "markdown",
   "id": "432bcdbe",
   "metadata": {},
   "source": [
    "# Softmax Classification\n",
    "\n",
    "- softmax\n",
    "- cross entropy\n",
    "- low-level implementation\n",
    "- high-level implementation\n",
    "- training example"
   ]
  },
  {
   "cell_type": "code",
   "execution_count": 1,
   "id": "0bd679f4",
   "metadata": {},
   "outputs": [
    {
     "data": {
      "text/plain": [
       "<torch._C.Generator at 0x198af04f0d0>"
      ]
     },
     "execution_count": 1,
     "metadata": {},
     "output_type": "execute_result"
    }
   ],
   "source": [
    "import torch\n",
    "import torch.nn as nn\n",
    "import torch.nn.functional as F\n",
    "import torch.optim as optim\n",
    "\n",
    "torch.manual_seed(1)"
   ]
  },
  {
   "cell_type": "markdown",
   "id": "c899e625",
   "metadata": {},
   "source": [
    "## Discrete Probability Distribution (이산확률분포)\n",
    "\n",
    "- 이산확률분포란, 확률분포함수가 이어지지 않는 방식으로 나온다\n",
    "- 즉 a, c, e라는 x가 존재할 때 a와 c 사이의 b에 대한 확률이 존재하지 않게 된다. \n",
    "- 이런 이산확률분포에서 특정 값에 대한 예측을 진행하는 것이 softmax 함수이다. "
   ]
  },
  {
   "cell_type": "code",
   "execution_count": 2,
   "id": "de2a5c7c",
   "metadata": {},
   "outputs": [
    {
     "name": "stdout",
     "output_type": "stream",
     "text": [
      "tensor([0.0900, 0.2447, 0.6652])\n"
     ]
    }
   ],
   "source": [
    "z = torch.FloatTensor([1, 2, 3])\n",
    "\n",
    "hypothesis = F.softmax(z, dim=0)\n",
    "print(hypothesis)"
   ]
  },
  {
   "cell_type": "code",
   "execution_count": 3,
   "id": "19220a0a",
   "metadata": {},
   "outputs": [
    {
     "data": {
      "text/plain": [
       "tensor(1.)"
      ]
     },
     "execution_count": 3,
     "metadata": {},
     "output_type": "execute_result"
    }
   ],
   "source": [
    "hypothesis.sum()"
   ]
  }
 ],
 "metadata": {
  "kernelspec": {
   "display_name": ".venv",
   "language": "python",
   "name": "python3"
  },
  "language_info": {
   "codemirror_mode": {
    "name": "ipython",
    "version": 3
   },
   "file_extension": ".py",
   "mimetype": "text/x-python",
   "name": "python",
   "nbconvert_exporter": "python",
   "pygments_lexer": "ipython3",
   "version": "3.13.1"
  }
 },
 "nbformat": 4,
 "nbformat_minor": 5
}
