{
 "cells": [
  {
   "cell_type": "markdown",
   "id": "432bcdbe",
   "metadata": {},
   "source": [
    "# Softmax Classification\n",
    "\n",
    "- softmax\n",
    "- cross entropy\n",
    "- low-level implementation\n",
    "- high-level implementation\n",
    "- training example"
   ]
  },
  {
   "cell_type": "code",
   "execution_count": 1,
   "id": "0bd679f4",
   "metadata": {},
   "outputs": [
    {
     "data": {
      "text/plain": [
       "<torch._C.Generator at 0x198af04f0d0>"
      ]
     },
     "execution_count": 1,
     "metadata": {},
     "output_type": "execute_result"
    }
   ],
   "source": [
    "import torch\n",
    "import torch.nn as nn\n",
    "import torch.nn.functional as F\n",
    "import torch.optim as optim\n",
    "\n",
    "torch.manual_seed(1)"
   ]
  },
  {
   "cell_type": "markdown",
   "id": "c899e625",
   "metadata": {},
   "source": [
    "## Discrete Probability Distribution (이산확률분포)\n",
    "\n",
    "- 이산확률분포란, 확률분포함수가 이어지지 않는 방식으로 나온다\n",
    "- 즉 a, c, e라는 x가 존재할 때 a와 c 사이의 b에 대한 확률이 존재하지 않게 된다. \n",
    "- 이런 이산확률분포에서 특정 값에 대한 예측을 진행하는 것이 softmax 함수이다. "
   ]
  },
  {
   "cell_type": "code",
   "execution_count": 2,
   "id": "de2a5c7c",
   "metadata": {},
   "outputs": [
    {
     "name": "stdout",
     "output_type": "stream",
     "text": [
      "tensor([0.0900, 0.2447, 0.6652])\n"
     ]
    }
   ],
   "source": [
    "z = torch.FloatTensor([1, 2, 3])\n",
    "\n",
    "hypothesis = F.softmax(z, dim=0)\n",
    "print(hypothesis)"
   ]
  },
  {
   "cell_type": "code",
   "execution_count": 3,
   "id": "19220a0a",
   "metadata": {},
   "outputs": [
    {
     "data": {
      "text/plain": [
       "tensor(1.)"
      ]
     },
     "execution_count": 3,
     "metadata": {},
     "output_type": "execute_result"
    }
   ],
   "source": [
    "hypothesis.sum()"
   ]
  },
  {
   "cell_type": "markdown",
   "id": "cab90f1b",
   "metadata": {},
   "source": [
    "## Cross Entropy\n",
    "\n",
    "- 두 분포 사이의 차이를 측정하는데 활용한다. \n",
    "- classification에서 모델이 예측한 확률 분포와 실제 확률 분포의 차이를 확인할 때 사용한다. \n",
    "- CE(p, q) = - Σ y * log(Y) (y = 실제 정답, Y = 모델이 예측한 확률) = - Σ p(x) log( q(x) )\n",
    "- 정답에 가까울 수록 loss가 작아진다"
   ]
  },
  {
   "cell_type": "code",
   "execution_count": 4,
   "id": "f5b6a8a7",
   "metadata": {},
   "outputs": [
    {
     "name": "stdout",
     "output_type": "stream",
     "text": [
      "tensor([[0.2645, 0.1639, 0.1855, 0.2585, 0.1277],\n",
      "        [0.2430, 0.1624, 0.2322, 0.1930, 0.1694],\n",
      "        [0.2226, 0.1986, 0.2326, 0.1594, 0.1868]], grad_fn=<SoftmaxBackward0>)\n"
     ]
    }
   ],
   "source": [
    "z = torch.rand(3, 5, requires_grad=True)\n",
    "hypothesis = F.softmax(z, dim=1)\n",
    "print(hypothesis)"
   ]
  },
  {
   "cell_type": "code",
   "execution_count": 6,
   "id": "128774c9",
   "metadata": {},
   "outputs": [
    {
     "name": "stdout",
     "output_type": "stream",
     "text": [
      "tensor([0, 2, 1])\n"
     ]
    }
   ],
   "source": [
    "y = torch.randint(5, (3, )).long()\n",
    "print(y)"
   ]
  }
 ],
 "metadata": {
  "kernelspec": {
   "display_name": ".venv",
   "language": "python",
   "name": "python3"
  },
  "language_info": {
   "codemirror_mode": {
    "name": "ipython",
    "version": 3
   },
   "file_extension": ".py",
   "mimetype": "text/x-python",
   "name": "python",
   "nbconvert_exporter": "python",
   "pygments_lexer": "ipython3",
   "version": "3.13.2"
  }
 },
 "nbformat": 4,
 "nbformat_minor": 5
}
