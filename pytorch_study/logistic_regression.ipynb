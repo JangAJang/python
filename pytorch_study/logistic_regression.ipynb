{
 "cells": [
  {
   "cell_type": "markdown",
   "id": "8df3350b",
   "metadata": {},
   "source": [
    "# Logistic Regression\n",
    "\n",
    "- H(x) = 1 / (1 + e^( (-W)^T * X ) )\n",
    "- cost(W) = -1 / m ∑ ( ylog(H(x)) + (1 - y)log(1 - H(x)) )\n",
    "\n",
    "logistic regression은 dynamic classification 문제이다. \n",
    "- 확률 기반으로 여러 데이터를 0, 1로 분류한다. \n",
    "- 즉, P(y = 1 | X) 같은 확률을 예측하고 임계값을 기준으로 0, 1을 분류하는 방식이다. \n",
    "- dynamic classification이란, 정확히 0/1이 아닌 값들에 대한 분류이다. X가 바뀔 때 마다 동적으로 결과가 바뀔 수 있으며, 가중치에 따라 입력을 받아 분류함\n",
    "\n",
    "m개의 샘플 데이터가 d의 차원으로 존재할 때 m개의 0, 1로 만들어준다. "
   ]
  }
 ],
 "metadata": {
  "language_info": {
   "name": "python"
  }
 },
 "nbformat": 4,
 "nbformat_minor": 5
}
