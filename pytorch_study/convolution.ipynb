{
 "cells": [
  {
   "cell_type": "markdown",
   "id": "a200b376",
   "metadata": {},
   "source": [
    "# Convolution\n",
    "\n",
    "- Convolution이 무엇인가\n",
    "- Neuron과 Convolution의 관계\n",
    "- Pooling"
   ]
  },
  {
   "cell_type": "markdown",
   "id": "cc18a8db",
   "metadata": {},
   "source": [
    "## Convolution이 무엇인가\n",
    "\n",
    "- 이미지 위에서 stride만큼 filter(kernel)을 이동시키면서 모두 더한 값을 출력으로 반환하는 연산\n",
    "\n",
    "![convolution example](/python/pytorch_study/images/convolution_example.png)\n",
    "\n",
    "- 간단하게 말하자면 3 x 3 행렬인 filter를 한 칸씩 이동시키며 위치마다 하나씩 값을 구해 행렬로 반환한다. \n",
    "- 행렬의 (0, 0)인덱스의 값만을 예시로 구해보자. \n",
    "    1. filter가 처음으로 겹치는 행렬 `[[1, 2, 3], [0, 1, 5], [1, 0, 2]]`이 존재한다. 이 행렬을 a 라고 정의한다.\n",
    "    2. filter, a행렬의 각 위치 값끼리 곱해 모두 더한다.\n",
    "    3. (1 * 1) + (2 * 0) + (3 * 1) + (0 * 1) + (1 * 1) + (5 * 0) + (1 * 1) + (0 * 0) + (2 * 1) = 1 + 0 + 3 + 0 + 1 + 0 + 1 + 0 + 2 = 8이 된다. \n",
    "    6. 반환해야 하는 행렬의 (0, 0)인덱스 값을 8로 초기화한다. \n",
    "    7. 이 과정을 filter가 겹치는 부분마다 반복한다. \n",
    "\n",
    "\n",
    "#### `stride`만큼 이동한다고 하는데, stride는 무엇일까?\n",
    "\n",
    "- stride : 한 번에 filter 행렬이 얼마나 이동하는가를 정의한다. \n",
    "\n",
    "#### Padding\n",
    "\n",
    "- input 행렬의 상하좌우에 0인 값으로 둘러싸는 것\n",
    "- padding파라미터를 통해 몇 칸 두께만큼 0을 채울 것인지 정의할 수 있다. "
   ]
  },
  {
   "cell_type": "markdown",
   "id": "0ed5f736",
   "metadata": {},
   "source": [
    "## Neuron(Perceptron)과 Convolution의 상관관계\n",
    "\n",
    "![neuronconvolution.png](/python/pytorch_study/images/neuron_convolution.png)\n",
    "\n",
    "- 뉴런에서 stride만큼 이동한 filter에 매칭되는 input행렬의 값들이 뉴런에 들어간다. \n",
    "- 뉴런에서 bias가 들어갈 수 있기 때문에 output은 8 + bias가 된다. "
   ]
  },
  {
   "cell_type": "markdown",
   "id": "0cacac1f",
   "metadata": {},
   "source": [
    "## Pooling\n",
    "\n",
    "![pooling.png](/python/pytorch_study/images/pooling.png)\n",
    "\n",
    "- Pooling : 이미지의 사이즈를 줄이기 위해 사용하거나, fully connected 연산을 대체하기 위해 average pooling을 사용하기도 한다. \n",
    "- Max Pooling : Pooling사이즈 안에서 가장 큰 값이 반환되어, 해당 값들로 행렬을 반환한다. \n",
    "- Average Pooling : Pooling 사이즈 안의 평균값을 반환해 그 값들로 출력 행렬을 만든다. "
   ]
  },
  {
   "cell_type": "code",
   "execution_count": 1,
   "id": "1672e2f8",
   "metadata": {},
   "outputs": [],
   "source": [
    "import torch\n",
    "import torch.nn as nn"
   ]
  },
  {
   "cell_type": "code",
   "execution_count": 6,
   "id": "3b0f3af5",
   "metadata": {},
   "outputs": [
    {
     "name": "stdout",
     "output_type": "stream",
     "text": [
      "out 결과\n",
      "torch.Size([1, 5, 24, 24])\n",
      "out2 결과\n",
      "torch.Size([1, 5, 12, 12])\n"
     ]
    }
   ],
   "source": [
    "input = torch.Tensor(1, 1, 28, 28)\n",
    "conv1 = nn.Conv2d(1, 5, 5)\n",
    "pool = nn.MaxPool2d(2)\n",
    "out = conv1(input)\n",
    "out2 = pool(out)\n",
    "print(\"out 결과\")\n",
    "print(out.size())\n",
    "print(\"out2 결과\")\n",
    "print(out2.size())"
   ]
  },
  {
   "cell_type": "markdown",
   "id": "a18b8fc1",
   "metadata": {},
   "source": [
    "## Convolution, Cross-correlation, Autocorrelation\n",
    "\n",
    "- Convolution(합성곱)\n",
    "    - 커널 g를 뒤집고 입력 f에 슬라이딩하며 계산한다. \n",
    "    - **딥러닝의 nn.Conv2d는 실제로 Cross-correlation연산을 한다**. 이론적 정의가 Convolution인 것이다. \n",
    "    - 시스템 응답, 필터링, 신호의 변환등에 사용된다(실제 신호 및 시스템 과목에 Convolution이라는 연산이 있었다..ㅠ)\n",
    "    - 선형 시스템의 응답을 모델링할 때 쓴다. \n",
    "- Cross-correlation(상호상관)\n",
    "    - 딥러닝 프레임워크의 Convolution이 사실 상호상관이다. \n",
    "    - 두 신호 간의 유사성 측정에 사용된다. \n",
    "    - 이미지 매칭, 템플릿 매칭에 사용된다. \n",
    "- Autocorrelation(자기상관)\n",
    "    - 자기자신을 시간축으로 이동시켜 유사도 측정\n",
    "    - 시간 지연에 따른 자기 신호 간의 상관도\n",
    "    - 주기성 탐지, 잡음 구분, 신호의 반복성 분석 등에 사용된다. "
   ]
  }
 ],
 "metadata": {
  "kernelspec": {
   "display_name": ".venv",
   "language": "python",
   "name": "python3"
  },
  "language_info": {
   "codemirror_mode": {
    "name": "ipython",
    "version": 3
   },
   "file_extension": ".py",
   "mimetype": "text/x-python",
   "name": "python",
   "nbconvert_exporter": "python",
   "pygments_lexer": "ipython3",
   "version": "3.13.2"
  }
 },
 "nbformat": 4,
 "nbformat_minor": 5
}
