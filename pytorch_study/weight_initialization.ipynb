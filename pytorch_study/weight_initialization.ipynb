{
 "cells": [
  {
   "cell_type": "markdown",
   "id": "28173791",
   "metadata": {},
   "source": [
    "# Weight Initialization \n",
    "\n",
    "- 왜 가중치 초기화가 중요한가?\n",
    "- RBM을 이용해 가중치를 초기화하기 -> DBN\n",
    "- Xavier / He Initialization : 가중치 초기화법"
   ]
  },
  {
   "cell_type": "markdown",
   "id": "7f8cfaa4",
   "metadata": {},
   "source": [
    "## Geoffrey Hinton's summary of findings up to today\n",
    "\n",
    "- 가중치를 잘 초기화해야하는데, 이에 대해 무지했다\n",
    "- 가중치가 기댓값에서 동떨어진 상태에서 학습을 시작하면 학습에 소요되는 시간이 늘어나며, 실제 성능에도 영향을 미친다. "
   ]
  },
  {
   "cell_type": "markdown",
   "id": "d4e60292",
   "metadata": {},
   "source": [
    "## Need to set the initial weight values wisely\n",
    "\n",
    "- 처음부터 가중치를 전부 0으로 하면, neural network에서 가중치 업데이트를 위해 back-propagation시 모든 gradient가 0이 된다. \n",
    "- 어떻게 가중치를 초기에 0이 아니게 해서 바로 학습이 제대로 되게 할까?\n",
    "- 이를 위해 `Restricted Boltzmann Machine`이라는 것을 만들어냈다. "
   ]
  },
  {
   "cell_type": "markdown",
   "id": "a29bcc1a",
   "metadata": {},
   "source": [
    "## RBM\n",
    "\n",
    "- 레이어 안의 노드들 간의 연결은 존재하지 않다. \n",
    "- 다른 레이어 간에는 fully connected상태이다. "
   ]
  }
 ],
 "metadata": {
  "kernelspec": {
   "display_name": ".venv",
   "language": "python",
   "name": "python3"
  },
  "language_info": {
   "name": "python",
   "version": "3.13.1"
  }
 },
 "nbformat": 4,
 "nbformat_minor": 5
}
