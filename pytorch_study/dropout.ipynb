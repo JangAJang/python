{
 "cells": [
  {
   "cell_type": "markdown",
   "id": "232e5c31",
   "metadata": {},
   "source": [
    "# Dropout\n",
    "\n",
    "### Overfitting(과적합)\n",
    "\n",
    "- overfitting이란 regression을 통해 학습한 모델이 `train_set`에 과도하게 맞추어져 있는 상태\n",
    "- regression문제에선 train_set에 정확히 일치한 그래프를 만드는 것\n",
    "- classification문제에선 train_set 데이터를 정확하게 분리할 수 있는 그래프를 만드는 것\n",
    "- overfitting은 `train_set`에서 error rate가 굉장히 낮지만 `test_set`에서는 error rate가 증가하는 경우\n",
    "- 해결할 방법이 다양하다\n",
    "    - `train_set`을 늘린다. \n",
    "    - `feature`를 줄인다. \n",
    "    - `regularization`을 한다. \n",
    "    - dropout이라는 방법도 존재한다. \n",
    "\n",
    "### Dropout\n",
    "\n",
    "- 일반적인 neural network에서, 각 레이어에 존재하는 node를 무작위로 제외하는 것을 반복하는 방식이다. \n",
    "- "
   ]
  }
 ],
 "metadata": {
  "kernelspec": {
   "display_name": ".venv",
   "language": "python",
   "name": "python3"
  },
  "language_info": {
   "name": "python",
   "version": "3.13.1"
  }
 },
 "nbformat": 4,
 "nbformat_minor": 5
}
