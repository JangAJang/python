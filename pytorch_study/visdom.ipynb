{
 "cells": [
  {
   "cell_type": "markdown",
   "id": "11b081ed",
   "metadata": {},
   "source": [
    "# visdom\n",
    "\n",
    "- visdom을 익히고 mnist cnn에 적용하기\n",
    "- visdom은 서버를 켜서 사용해야 한다. "
   ]
  },
  {
   "cell_type": "markdown",
   "id": "7806aadb",
   "metadata": {},
   "source": [
    "## visdom 사용법\n",
    "\n",
    "- text\n",
    "- image\n",
    "- images\n",
    "- Line plot"
   ]
  },
  {
   "cell_type": "code",
   "execution_count": 1,
   "id": "5c89261d",
   "metadata": {},
   "outputs": [],
   "source": [
    "import torch\n",
    "import torch.nn as nn\n",
    "\n",
    "import torchvision\n",
    "import torchvision.datasets as dsets"
   ]
  },
  {
   "cell_type": "code",
   "execution_count": 2,
   "id": "c62fbfce",
   "metadata": {},
   "outputs": [
    {
     "name": "stderr",
     "output_type": "stream",
     "text": [
      "Setting up a new session...\n"
     ]
    }
   ],
   "source": [
    "import visdom\n",
    "\n",
    "vis = visdom.Visdom()"
   ]
  },
  {
   "cell_type": "code",
   "execution_count": 3,
   "id": "c596ac76",
   "metadata": {},
   "outputs": [
    {
     "data": {
      "text/plain": [
       "'window_3e2b5dd4399734'"
      ]
     },
     "execution_count": 3,
     "metadata": {},
     "output_type": "execute_result"
    }
   ],
   "source": [
    "vis.text('Hello World!', env=\"main\")"
   ]
  },
  {
   "cell_type": "code",
   "execution_count": null,
   "id": "c2175fbb",
   "metadata": {},
   "outputs": [
    {
     "data": {
      "text/plain": [
       "'window_3e2b5de6760822'"
      ]
     },
     "execution_count": 4,
     "metadata": {},
     "output_type": "execute_result"
    }
   ],
   "source": [
    "a = torch.randn(3, 200, 200) # RGB 3 컬러로 200 x 200크기의 사진을 랜덤으로 만든다. \n",
    "\n",
    "vis.image(a)"
   ]
  },
  {
   "cell_type": "code",
   "execution_count": 8,
   "id": "1d245d82",
   "metadata": {},
   "outputs": [
    {
     "data": {
      "text/plain": [
       "'window_3e2b5e3ad28474'"
      ]
     },
     "execution_count": 8,
     "metadata": {},
     "output_type": "execute_result"
    }
   ],
   "source": [
    "vis.images(torch.Tensor(3, 3, 28, 28))"
   ]
  }
 ],
 "metadata": {
  "kernelspec": {
   "display_name": ".venv",
   "language": "python",
   "name": "python3"
  },
  "language_info": {
   "codemirror_mode": {
    "name": "ipython",
    "version": 3
   },
   "file_extension": ".py",
   "mimetype": "text/x-python",
   "name": "python",
   "nbconvert_exporter": "python",
   "pygments_lexer": "ipython3",
   "version": "3.13.1"
  }
 },
 "nbformat": 4,
 "nbformat_minor": 5
}
