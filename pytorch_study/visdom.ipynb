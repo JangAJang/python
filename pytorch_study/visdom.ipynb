{
 "cells": [
  {
   "cell_type": "markdown",
   "id": "11b081ed",
   "metadata": {},
   "source": [
    "# visdom\n",
    "\n",
    "- visdom을 익히고 mnist cnn에 적용하기\n",
    "- visdom은 서버를 켜서 사용해야 한다. \n",
    "- venv에서 `python -m visdom.server` 명령어를 이용해 visdom 서버를 실행 가능하다."
   ]
  },
  {
   "cell_type": "markdown",
   "id": "7806aadb",
   "metadata": {},
   "source": [
    "## visdom 사용법\n",
    "\n",
    "- text\n",
    "- image\n",
    "- images\n",
    "- Line plot"
   ]
  },
  {
   "cell_type": "code",
   "execution_count": 7,
   "id": "5c89261d",
   "metadata": {},
   "outputs": [],
   "source": [
    "import torch\n",
    "import torch.nn as nn\n",
    "\n",
    "import torchvision\n",
    "import torchvision.datasets as dsets"
   ]
  },
  {
   "cell_type": "code",
   "execution_count": 8,
   "id": "c62fbfce",
   "metadata": {},
   "outputs": [
    {
     "name": "stderr",
     "output_type": "stream",
     "text": [
      "Setting up a new session...\n"
     ]
    }
   ],
   "source": [
    "import visdom\n",
    "\n",
    "vis = visdom.Visdom()"
   ]
  },
  {
   "cell_type": "code",
   "execution_count": 9,
   "id": "c596ac76",
   "metadata": {},
   "outputs": [
    {
     "data": {
      "text/plain": [
       "'window_3e30b104dd1770'"
      ]
     },
     "execution_count": 9,
     "metadata": {},
     "output_type": "execute_result"
    }
   ],
   "source": [
    "vis.text('Hello World!', env=\"main\")"
   ]
  },
  {
   "cell_type": "code",
   "execution_count": 10,
   "id": "c2175fbb",
   "metadata": {},
   "outputs": [
    {
     "data": {
      "text/plain": [
       "'window_3e30b104e07c7e'"
      ]
     },
     "execution_count": 10,
     "metadata": {},
     "output_type": "execute_result"
    }
   ],
   "source": [
    "a = torch.randn(3, 200, 200) # RGB 3 컬러로 200 x 200크기의 사진을 랜덤으로 만든다. \n",
    "\n",
    "vis.image(a)"
   ]
  },
  {
   "cell_type": "code",
   "execution_count": 11,
   "id": "1d245d82",
   "metadata": {},
   "outputs": [
    {
     "name": "stderr",
     "output_type": "stream",
     "text": [
      "/Users/janghee/Desktop/coding/python/.venv/lib/python3.13/site-packages/visdom/__init__.py:1402: RuntimeWarning: invalid value encountered in cast\n",
      "  grid[:, h_start:h_end, w_start:w_end] = tensor[k]\n"
     ]
    },
    {
     "data": {
      "text/plain": [
       "'window_3e30b104e213c2'"
      ]
     },
     "execution_count": 11,
     "metadata": {},
     "output_type": "execute_result"
    }
   ],
   "source": [
    "vis.images(torch.Tensor(3, 3, 28, 28))"
   ]
  },
  {
   "cell_type": "markdown",
   "id": "c48564ec",
   "metadata": {},
   "source": [
    "## example (using MNIST and CIFAR10)"
   ]
  },
  {
   "cell_type": "code",
   "execution_count": 12,
   "id": "0e1cc2aa",
   "metadata": {},
   "outputs": [],
   "source": [
    "MNIST = dsets.MNIST(root=\"./MNIST_data\", train=True, transform=torchvision.transforms.ToTensor(), download=True)\n",
    "cifar10 = dsets.CIFAR10(root=\"./cifar10\", train=True, transform=torchvision.transforms.ToTensor(), download=True)"
   ]
  },
  {
   "cell_type": "code",
   "execution_count": 13,
   "id": "b73ace6f",
   "metadata": {},
   "outputs": [
    {
     "name": "stdout",
     "output_type": "stream",
     "text": [
      "torch.Size([3, 32, 32])\n"
     ]
    },
    {
     "data": {
      "text/plain": [
       "'window_3e30b131897e4e'"
      ]
     },
     "execution_count": 13,
     "metadata": {},
     "output_type": "execute_result"
    }
   ],
   "source": [
    "data = cifar10.__getitem__(0)\n",
    "print(data[0].shape)\n",
    "vis.image(data[0], env='main')"
   ]
  },
  {
   "cell_type": "code",
   "execution_count": 14,
   "id": "1ffbb6fb",
   "metadata": {},
   "outputs": [
    {
     "name": "stdout",
     "output_type": "stream",
     "text": [
      "torch.Size([1, 28, 28])\n"
     ]
    },
    {
     "data": {
      "text/plain": [
       "'window_3e30b1ae448760'"
      ]
     },
     "execution_count": 14,
     "metadata": {},
     "output_type": "execute_result"
    }
   ],
   "source": [
    "data = MNIST.__getitem__(0)\n",
    "print(data[0].shape)\n",
    "vis.image(data[0], env='main')"
   ]
  },
  {
   "cell_type": "code",
   "execution_count": 20,
   "id": "7b4bf12b",
   "metadata": {},
   "outputs": [
    {
     "name": "stdout",
     "output_type": "stream",
     "text": [
      "torch.Size([32, 1, 28, 28])\n"
     ]
    }
   ],
   "source": [
    "data_loader = torch.utils.data.DataLoader(dataset=MNIST, batch_size=32, shuffle=True)\n",
    "\n",
    "for num, value in enumerate(data_loader):\n",
    "    value = value[0]\n",
    "\n",
    "    print(value.shape)\n",
    "\n",
    "    vis.images(value)\n",
    "    break"
   ]
  },
  {
   "cell_type": "markdown",
   "id": "efabbda7",
   "metadata": {},
   "source": [
    "## Line Plot\n",
    "\n",
    "- x의 정확한 값을 제공하지 않으면 x는 0과 1사이의 값들로 생성된다. "
   ]
  },
  {
   "cell_type": "code",
   "execution_count": 28,
   "id": "dc45657a",
   "metadata": {},
   "outputs": [],
   "source": [
    "Y_data = torch.rand(5)\n",
    "plt = vis.line(Y=Y_data)"
   ]
  },
  {
   "cell_type": "code",
   "execution_count": 29,
   "id": "39710b97",
   "metadata": {},
   "outputs": [],
   "source": [
    "X_data = torch.Tensor([1, 2, 3, 4, 5])\n",
    "plt = vis.line(Y=Y_data, X=X_data)"
   ]
  },
  {
   "cell_type": "markdown",
   "id": "c448a316",
   "metadata": {},
   "source": [
    "## Line update\n",
    "\n",
    "- 기존의 그래프를 업데이트할 수 있다. \n",
    "- win, update로 방식을 설정할 수 있다. \n",
    "    - win : 업데이트할 윈도우의 이름, 위에서 `plt`라고 정의했다.\n",
    "    - update : update할 방식을 정의한다. cmd + 클릭해서 보니 `append`, `replace`, `remove`라는 파라미터로 정의할 수 있다. "
   ]
  },
  {
   "cell_type": "code",
   "execution_count": 31,
   "id": "88cb3ec0",
   "metadata": {},
   "outputs": [
    {
     "data": {
      "text/plain": [
       "'window_3e30b397e1a870'"
      ]
     },
     "execution_count": 31,
     "metadata": {},
     "output_type": "execute_result"
    }
   ],
   "source": [
    "Y_append = torch.rand(1)\n",
    "X_append = torch.Tensor([6])\n",
    "\n",
    "vis.line(Y=Y_append, X=X_append, win=plt, update='append')"
   ]
  },
  {
   "cell_type": "markdown",
   "id": "6d056d09",
   "metadata": {},
   "source": [
    "## Multiple Lines on Single window"
   ]
  },
  {
   "cell_type": "code",
   "execution_count": 33,
   "id": "c05845db",
   "metadata": {},
   "outputs": [
    {
     "name": "stdout",
     "output_type": "stream",
     "text": [
      "torch.Size([10])\n",
      "torch.Size([10, 1])\n",
      "torch.Size([10, 2])\n"
     ]
    }
   ],
   "source": [
    "num = torch.Tensor(list(range(0, 10)))\n",
    "print(num.shape)\n",
    "\n",
    "num = num.view(-1, 1)\n",
    "print(num.shape)\n",
    "\n",
    "num = torch.cat((num, num), dim=1)\n",
    "print(num.shape)\n",
    "\n",
    "plt = vis.line(Y=torch.rand(10, 2), X=num)"
   ]
  },
  {
   "cell_type": "markdown",
   "id": "3cf9da2b",
   "metadata": {},
   "source": [
    "## Line Info"
   ]
  },
  {
   "cell_type": "code",
   "execution_count": 34,
   "id": "a8e2e580",
   "metadata": {},
   "outputs": [],
   "source": [
    "plt = vis.line(Y_data, X_data, opts=dict(title='Test', showlegend=True))"
   ]
  },
  {
   "cell_type": "code",
   "execution_count": 35,
   "id": "378f2656",
   "metadata": {},
   "outputs": [],
   "source": [
    "plt = vis.line(Y_data, X_data, opts=dict(title='Test', legend=['1번'], showlegend=True))"
   ]
  },
  {
   "cell_type": "code",
   "execution_count": 36,
   "id": "91c15605",
   "metadata": {},
   "outputs": [],
   "source": [
    "\n",
    "plt = vis.line(Y=torch.rand(10, 2), X=num, opts=dict(title='Test', legend=['1번', '2번'], showlegend=True))"
   ]
  },
  {
   "cell_type": "markdown",
   "id": "37b2c408",
   "metadata": {},
   "source": [
    "## mnist cnn에 visdom을 추가해서 plot을 그려보자."
   ]
  },
  {
   "cell_type": "code",
   "execution_count": 46,
   "id": "de9adb1e",
   "metadata": {},
   "outputs": [],
   "source": [
    "import torch.nn as nn\n",
    "import torchvision.datasets as dsets\n",
    "import torchvision.transforms as transforms\n",
    "\n",
    "import torch.nn.init"
   ]
  },
  {
   "cell_type": "code",
   "execution_count": 38,
   "id": "f2078ac8",
   "metadata": {},
   "outputs": [
    {
     "name": "stderr",
     "output_type": "stream",
     "text": [
      "Setting up a new session...\n"
     ]
    },
    {
     "data": {
      "text/plain": [
       "''"
      ]
     },
     "execution_count": 38,
     "metadata": {},
     "output_type": "execute_result"
    }
   ],
   "source": [
    "vis = visdom.Visdom()\n",
    "vis.close()"
   ]
  },
  {
   "cell_type": "code",
   "execution_count": 47,
   "id": "a08a8f0c",
   "metadata": {},
   "outputs": [],
   "source": [
    "def loss_tracker(loss_plot, loss_value, num):\n",
    "    vis.line(X=num, Y=loss_value, win=loss_plot, update='append')"
   ]
  },
  {
   "cell_type": "code",
   "execution_count": 48,
   "id": "45fc66f5",
   "metadata": {},
   "outputs": [],
   "source": [
    "device = 'cuda' if torch.cuda.is_available() else 'cpu'\n",
    "\n",
    "torch.manual_seed(777)\n",
    "\n",
    "if device == 'cuda' : torch.cuda.manual_seed_all(777)"
   ]
  },
  {
   "cell_type": "code",
   "execution_count": 49,
   "id": "3f90833d",
   "metadata": {},
   "outputs": [],
   "source": [
    "learning_rate = 0.001\n",
    "training_epochs = 15\n",
    "batch_size = 32"
   ]
  },
  {
   "cell_type": "code",
   "execution_count": 41,
   "id": "03878280",
   "metadata": {},
   "outputs": [],
   "source": [
    "mnist_train = dsets.MNIST(root='MNIST_data/', train=True, transform=transforms.ToTensor(), download=True)\n",
    "mnist_test = dsets.MNIST(root='MNIST_data/', train=False, transform=transforms.ToTensor(), download=True)"
   ]
  },
  {
   "cell_type": "code",
   "execution_count": 42,
   "id": "f0034078",
   "metadata": {},
   "outputs": [],
   "source": [
    "data_loader = torch.utils.data.DataLoader(\n",
    "    dataset=mnist_train,\n",
    "    batch_size=batch_size,\n",
    "    shuffle=True,\n",
    "    drop_last=True\n",
    ")"
   ]
  },
  {
   "cell_type": "code",
   "execution_count": 54,
   "id": "f641da37",
   "metadata": {},
   "outputs": [],
   "source": [
    "class CNN(nn.Module):\n",
    "    \n",
    "    def __init__(self):\n",
    "        super(CNN, self).__init__()\n",
    "        \n",
    "        self.layer1 = nn.Sequential(\n",
    "            nn.Conv2d(1, 32, kernel_size=3, stride=1, padding=1),\n",
    "            nn.ReLU(),\n",
    "            nn.MaxPool2d(2)\n",
    "        )\n",
    "        \n",
    "        self.layer2 = nn.Sequential(\n",
    "            nn.Conv2d(32, 64, kernel_size=3, stride=1, padding=1),\n",
    "            nn.ReLU(),\n",
    "            nn.MaxPool2d(2)\n",
    "        )\n",
    "        \n",
    "        self.layer3 = nn.Sequential(\n",
    "            nn.Conv2d(64, 128, kernel_size=3, stride=1, padding=1),\n",
    "            nn.ReLU(),\n",
    "            nn.MaxPool2d(2)\n",
    "        )\n",
    "        \n",
    "        self.fc1 = nn.Linear(3*3*128, 625, bias=True)\n",
    "        \n",
    "        self.relu = nn.ReLU()\n",
    "        \n",
    "        self.fc2 = nn.Linear(625, 10, bias=True)\n",
    "        torch.nn.init.xavier_uniform_(self.fc1.weight)\n",
    "        torch.nn.init.xavier_uniform_(self.fc2.weight)\n",
    "        \n",
    "    def forward(self, x):\n",
    "        out = self.layer1(x)\n",
    "        out = self.layer2(out)\n",
    "        out = self.layer3(out)\n",
    "        \n",
    "        out = out.view(out.size(0), -1)\n",
    "        out = self.fc1(out)\n",
    "        out = self.relu(out)\n",
    "        out = self.fc2(out)\n",
    "        \n",
    "        return out"
   ]
  },
  {
   "cell_type": "code",
   "execution_count": 50,
   "id": "1256072b",
   "metadata": {},
   "outputs": [],
   "source": [
    "model = CNN().to(device)"
   ]
  },
  {
   "cell_type": "code",
   "execution_count": 51,
   "id": "5753a201",
   "metadata": {},
   "outputs": [],
   "source": [
    "criterion = nn.CrossEntropyLoss().to(device)\n",
    "optimizer = torch.optim.Adam(model.parameters(), lr = learning_rate)"
   ]
  },
  {
   "cell_type": "markdown",
   "id": "eae967fa",
   "metadata": {},
   "source": [
    "### make plot"
   ]
  },
  {
   "cell_type": "code",
   "execution_count": 56,
   "id": "fe05eafc",
   "metadata": {},
   "outputs": [],
   "source": [
    "loss_plt = vis.line(Y=torch.Tensor(1).zero_(), opts=dict(title='loss_tracker', legend=['loss'], showlegend=True))"
   ]
  },
  {
   "cell_type": "code",
   "execution_count": 57,
   "id": "9f97b168",
   "metadata": {},
   "outputs": [
    {
     "name": "stdout",
     "output_type": "stream",
     "text": [
      "Epoch:1 cost = 0.03040499985218048\n",
      "Epoch:2 cost = 0.022970810532569885\n",
      "Epoch:3 cost = 0.01868782937526703\n",
      "Epoch:4 cost = 0.014636977575719357\n",
      "Epoch:5 cost = 0.012057575397193432\n",
      "Epoch:6 cost = 0.010045189410448074\n",
      "Epoch:7 cost = 0.008292922750115395\n",
      "Epoch:8 cost = 0.006249075755476952\n",
      "Epoch:9 cost = 0.0061283535324037075\n",
      "Epoch:10 cost = 0.004496397450566292\n",
      "Epoch:11 cost = 0.005625160876661539\n",
      "Epoch:12 cost = 0.003468252718448639\n",
      "Epoch:13 cost = 0.004327105358242989\n",
      "Epoch:14 cost = 0.0040261875838041306\n",
      "Epoch:15 cost = 0.0030823112465441227\n",
      "Learning finished\n"
     ]
    }
   ],
   "source": [
    "total_batch = len(data_loader)\n",
    "\n",
    "for epoch in range(training_epochs):\n",
    "    avg_cost = 0\n",
    "    \n",
    "    for X, Y in data_loader:\n",
    "        X = X.to(device)\n",
    "        Y = Y.to(device)\n",
    "        \n",
    "        optimizer.zero_grad()\n",
    "        \n",
    "        hypothesis = model(X)\n",
    "        cost = criterion(hypothesis, Y)\n",
    "        cost.backward()\n",
    "        optimizer.step()\n",
    "        \n",
    "        avg_cost += cost / total_batch\n",
    "        \n",
    "    print('Epoch:{} cost = {}'.format(epoch + 1, avg_cost))\n",
    "    loss_tracker(loss_plt, torch.Tensor([avg_cost]), torch.Tensor([epoch]))\n",
    "    \n",
    "print('Learning finished')\n",
    "        "
   ]
  },
  {
   "cell_type": "code",
   "execution_count": 58,
   "id": "ebfd07d4",
   "metadata": {},
   "outputs": [
    {
     "name": "stderr",
     "output_type": "stream",
     "text": [
      "/Users/janghee/Desktop/coding/python/.venv/lib/python3.13/site-packages/torchvision/datasets/mnist.py:81: UserWarning: test_data has been renamed data\n",
      "  warnings.warn(\"test_data has been renamed data\")\n",
      "/Users/janghee/Desktop/coding/python/.venv/lib/python3.13/site-packages/torchvision/datasets/mnist.py:71: UserWarning: test_labels has been renamed targets\n",
      "  warnings.warn(\"test_labels has been renamed targets\")\n"
     ]
    },
    {
     "name": "stdout",
     "output_type": "stream",
     "text": [
      "Accuracy :  0.9786999821662903\n"
     ]
    }
   ],
   "source": [
    "with torch.no_grad():\n",
    "    x_test = mnist_test.test_data.view(len(mnist_test), 1, 28, 28).float().to(device)\n",
    "    y_test = mnist_test.test_labels.to(device)\n",
    "    \n",
    "    prediction = model(x_test)\n",
    "    correct_prediction = torch.argmax(prediction, 1) == y_test\n",
    "    \n",
    "    accuracy = correct_prediction.float().mean()\n",
    "    \n",
    "    print('Accuracy : ', accuracy.item())"
   ]
  },
  {
   "cell_type": "markdown",
   "id": "b1ff8ca3",
   "metadata": {},
   "source": [
    "## clear visdom"
   ]
  },
  {
   "cell_type": "code",
   "execution_count": 27,
   "id": "d9225fe3",
   "metadata": {},
   "outputs": [
    {
     "data": {
      "text/plain": [
       "''"
      ]
     },
     "execution_count": 27,
     "metadata": {},
     "output_type": "execute_result"
    }
   ],
   "source": [
    "vis.close(env='main')"
   ]
  }
 ],
 "metadata": {
  "kernelspec": {
   "display_name": ".venv",
   "language": "python",
   "name": "python3"
  },
  "language_info": {
   "codemirror_mode": {
    "name": "ipython",
    "version": 3
   },
   "file_extension": ".py",
   "mimetype": "text/x-python",
   "name": "python",
   "nbconvert_exporter": "python",
   "pygments_lexer": "ipython3",
   "version": "3.13.1"
  }
 },
 "nbformat": 4,
 "nbformat_minor": 5
}
