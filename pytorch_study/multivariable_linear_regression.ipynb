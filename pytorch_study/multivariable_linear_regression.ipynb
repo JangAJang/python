{
 "cells": [
  {
   "cell_type": "markdown",
   "id": "9e7203f3",
   "metadata": {},
   "source": [
    "# Multivariable Linear Regression\n",
    "\n",
    "- 기존의 선형회귀는 x가 하나일 때 처리한 방식이다. \n",
    "- 그렇다면 여러 x개 있는 경우에는 어떻게 계산될까?"
   ]
  },
  {
   "cell_type": "code",
   "execution_count": null,
   "id": "54e0b139",
   "metadata": {},
   "outputs": [],
   "source": [
    "import numpy as np\n",
    "import torch\n",
    "\n",
    "x_train = torch.FloatTensor([[73, 80, 75],\n",
    "[93, 88, 93],\n",
    "[89, 91, 90],\n",
    "[96, 98, 100],\n",
    "[73, 66, 70]])\n",
    "\n",
    "y_train = torch.FloatTensor([[152], [185], [180], [196], [142]])"
   ]
  },
  {
   "cell_type": "markdown",
   "id": "321a5838",
   "metadata": {},
   "source": [
    "## Hypothesis\n",
    "\n",
    "- 기존에는 `H(x) = wx + b`였다\n",
    "- 이번에는 `H(x) = w1x1 + w2x2 + w3x3 + b`로 계산을 할 것 이다. \n",
    "- 문제는, 가중치를 위처럼 정적으로 계산하게 한다면 x가 길이 n인 벡터일 때, w도 n개를 수동으로 초기화시켜야 한다. \n",
    "- for문을 써도 매한가지다. \n",
    "- 이럴 때 쓰려고 `matmul`을 배웠다"
   ]
  },
  {
   "cell_type": "code",
   "execution_count": null,
   "id": "9c5af432",
   "metadata": {},
   "outputs": [],
   "source": [
    "# hypothesis = x_train.matmul(W) + b"
   ]
  }
 ],
 "metadata": {
  "kernelspec": {
   "display_name": ".venv",
   "language": "python",
   "name": "python3"
  },
  "language_info": {
   "codemirror_mode": {
    "name": "ipython",
    "version": 3
   },
   "file_extension": ".py",
   "mimetype": "text/x-python",
   "name": "python",
   "nbconvert_exporter": "python",
   "pygments_lexer": "ipython3",
   "version": "3.13.1"
  }
 },
 "nbformat": 4,
 "nbformat_minor": 5
}
