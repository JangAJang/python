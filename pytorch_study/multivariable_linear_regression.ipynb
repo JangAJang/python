{
 "cells": [
  {
   "cell_type": "markdown",
   "id": "9e7203f3",
   "metadata": {},
   "source": [
    "# Multivariable Linear Regression\n",
    "\n",
    "- 기존의 선형회귀는 x가 하나일 때 처리한 방식이다. \n",
    "- 그렇다면 여러 x개 있는 경우에는 어떻게 계산될까?"
   ]
  },
  {
   "cell_type": "code",
   "execution_count": 1,
   "id": "54e0b139",
   "metadata": {},
   "outputs": [],
   "source": [
    "import numpy as np\n",
    "import torch\n",
    "\n",
    "x_train = torch.FloatTensor([[73, 80, 75],\n",
    "[93, 88, 93],\n",
    "[89, 91, 90],\n",
    "[96, 98, 100],\n",
    "[73, 66, 70]])\n",
    "\n",
    "y_train = torch.FloatTensor([[152], [185], [180], [196], [142]])"
   ]
  },
  {
   "cell_type": "markdown",
   "id": "321a5838",
   "metadata": {},
   "source": [
    "## Hypothesis\n",
    "\n",
    "- 기존에는 `H(x) = wx + b`였다\n",
    "- 이번에는 `H(x) = w1x1 + w2x2 + w3x3 + b`로 계산을 할 것 이다. \n",
    "- 문제는, 가중치를 위처럼 정적으로 계산하게 한다면 x가 길이 n인 벡터일 때, w도 n개를 수동으로 초기화시켜야 한다. \n",
    "- for문을 써도 매한가지다. \n",
    "- 이럴 때 쓰려고 `matmul`을 배웠다"
   ]
  },
  {
   "cell_type": "code",
   "execution_count": 2,
   "id": "9c5af432",
   "metadata": {},
   "outputs": [],
   "source": [
    "W = torch.zeros((3, 1), requires_grad=True)\n",
    "b = torch.zeros(1, requires_grad=True)\n",
    "\n",
    "hypothesis = x_train.matmul(W) + b\n",
    "\n",
    "optimizer = torch.optim.SGD([W, b], lr=1e-5)"
   ]
  },
  {
   "cell_type": "markdown",
   "id": "fba424ed",
   "metadata": {},
   "source": [
    "- 위에서 optim까지 정의했다면, epoch를 이용해 hypothesis를 계산한다. \n",
    "- Cost를 계산해 경사하강법으로 W, b를 예측한다. "
   ]
  },
  {
   "cell_type": "code",
   "execution_count": 3,
   "id": "057d0911",
   "metadata": {},
   "outputs": [
    {
     "name": "stdout",
     "output_type": "stream",
     "text": [
      "Epoch    0 / 20 hypothesis : tensor([0., 0., 0., 0., 0.]) Cost : 29661.800781\n",
      "Epoch    1 / 20 hypothesis : tensor([67.2578, 80.8397, 79.6523, 86.7394, 61.6605]) Cost : 9298.520508\n",
      "Epoch    2 / 20 hypothesis : tensor([104.9128, 126.0990, 124.2466, 135.3015,  96.1821]) Cost : 2915.712402\n",
      "Epoch    3 / 20 hypothesis : tensor([125.9942, 151.4381, 149.2133, 162.4896, 115.5097]) Cost : 915.040527\n",
      "Epoch    4 / 20 hypothesis : tensor([137.7968, 165.6247, 163.1911, 177.7112, 126.3307]) Cost : 287.936005\n",
      "Epoch    5 / 20 hypothesis : tensor([144.4044, 173.5674, 171.0168, 186.2332, 132.3891]) Cost : 91.371010\n",
      "Epoch    6 / 20 hypothesis : tensor([148.1035, 178.0144, 175.3980, 191.0042, 135.7812]) Cost : 29.758139\n",
      "Epoch    7 / 20 hypothesis : tensor([150.1744, 180.5042, 177.8508, 193.6753, 137.6805]) Cost : 10.445305\n",
      "Epoch    8 / 20 hypothesis : tensor([151.3336, 181.8983, 179.2240, 195.1707, 138.7440]) Cost : 4.391228\n",
      "Epoch    9 / 20 hypothesis : tensor([151.9824, 182.6789, 179.9928, 196.0079, 139.3396]) Cost : 2.493135\n",
      "Epoch   10 / 20 hypothesis : tensor([152.3454, 183.1161, 180.4231, 196.4765, 139.6732]) Cost : 1.897688\n",
      "Epoch   11 / 20 hypothesis : tensor([152.5485, 183.3610, 180.6640, 196.7389, 139.8602]) Cost : 1.710541\n",
      "Epoch   12 / 20 hypothesis : tensor([152.6620, 183.4982, 180.7988, 196.8857, 139.9651]) Cost : 1.651412\n",
      "Epoch   13 / 20 hypothesis : tensor([152.7253, 183.5752, 180.8742, 196.9678, 140.0240]) Cost : 1.632387\n",
      "Epoch   14 / 20 hypothesis : tensor([152.7606, 183.6184, 180.9164, 197.0138, 140.0571]) Cost : 1.625923\n",
      "Epoch   15 / 20 hypothesis : tensor([152.7802, 183.6427, 180.9399, 197.0395, 140.0759]) Cost : 1.623412\n",
      "Epoch   16 / 20 hypothesis : tensor([152.7909, 183.6565, 180.9530, 197.0538, 140.0865]) Cost : 1.622141\n",
      "Epoch   17 / 20 hypothesis : tensor([152.7968, 183.6643, 180.9603, 197.0618, 140.0927]) Cost : 1.621253\n",
      "Epoch   18 / 20 hypothesis : tensor([152.7999, 183.6688, 180.9644, 197.0662, 140.0963]) Cost : 1.620500\n",
      "Epoch   19 / 20 hypothesis : tensor([152.8014, 183.6715, 180.9666, 197.0686, 140.0985]) Cost : 1.619770\n",
      "Epoch   20 / 20 hypothesis : tensor([152.8020, 183.6731, 180.9677, 197.0699, 140.1000]) Cost : 1.619033\n"
     ]
    }
   ],
   "source": [
    "nb_epochs = 20\n",
    "\n",
    "for epoch in range(nb_epochs+1):\n",
    "    hypothesis = x_train.matmul(W) + b\n",
    "    cost = torch.mean((hypothesis - y_train) ** 2)\n",
    "    optimizer.zero_grad()\n",
    "    cost.backward()\n",
    "    optimizer.step()\n",
    "\n",
    "    print('Epoch {:4d} / {} hypothesis : {} Cost : {:.6f}'.format(\n",
    "        epoch, nb_epochs, hypothesis.squeeze().detach(), cost.item()\n",
    "    ))"
   ]
  },
  {
   "cell_type": "markdown",
   "id": "86ec0cbc",
   "metadata": {},
   "source": [
    "- 위에서 detach는 Pytorch의 Autograd에서 해당 텐서를 그래프에서 제거하는 역할을 한다. \n",
    "- detach를 하지 않으면 해당 텐서를 이용해 그래프를 추적할 수 있게 된다. \n",
    "- 이를 방지하고, 출력 및 저장용으로 특정 텐서를 저장하기 위해 detach를 많이 사용한다. \n",
    "- 그 외에도 `tensor.detach().cpu().numpy()`의 방식으로 사용하기 도 한다. \n",
    "\t- detach() : 학습 그래프에서 분리\n",
    "\t- cpu() : GPU 텐서를 CPU로 이동\n",
    "\t- numpy() : 넘파이 배열로 변환"
   ]
  },
  {
   "cell_type": "markdown",
   "id": "8d8f1c6f",
   "metadata": {},
   "source": [
    "- 위의 방식처럼 W, b를 작성하는 일도 자동화시킬 수 있지 않을까? \n",
    "- 이를 위해 pytorch에서는 `nn.Module`를 제공한다. \n",
    "- `Linear`의 파라미터는 입력차원, 출력차원을 파라미터로 준다. "
   ]
  },
  {
   "cell_type": "code",
   "execution_count": 9,
   "id": "9cc3b37f",
   "metadata": {},
   "outputs": [],
   "source": [
    "import torch.nn as nn\n",
    "\n",
    "class MultivariableLinearRegression(nn.Module):\n",
    "    def __init__(self):\n",
    "        super().__init__()\n",
    "        self.linear = nn.Linear(3, 1)\n",
    "    \n",
    "    def forward(self, x):\n",
    "        return self.linear(x)\n",
    "    \n",
    "# hypothesis = model(x_train)"
   ]
  },
  {
   "cell_type": "markdown",
   "id": "e406e152",
   "metadata": {},
   "source": [
    "## Pytorch의 Cost Function\n",
    "\n",
    "- 후에 다른 Cost Function으로 치환하기 편하다. \n",
    "- 디버깅에 용이하다"
   ]
  },
  {
   "cell_type": "code",
   "execution_count": 5,
   "id": "85bdc6df",
   "metadata": {},
   "outputs": [],
   "source": [
    "# cost = nn.F.mse_loss(prediction, y_train)"
   ]
  },
  {
   "cell_type": "code",
   "execution_count": null,
   "id": "9cdf541b",
   "metadata": {},
   "outputs": [],
   "source": [
    "model = MultivariableLinearRegression()\n",
    "\n",
    "optimizer = torch.optim.SGD(model.parameters(), lr=1e-5)"
   ]
  },
  {
   "cell_type": "code",
   "execution_count": null,
   "id": "6b89b971",
   "metadata": {},
   "outputs": [
    {
     "name": "stdout",
     "output_type": "stream",
     "text": [
      "Epoch    0/20 Hypothesis: tensor([-11.0471, -10.7656, -11.8560, -13.7576,  -6.8366]), Cost: 33573.566406\n",
      "Epoch    1/20 Hypothesis: tensor([-11.0471, -10.7656, -11.8560, -13.7576,  -6.8366]), Cost: 33573.566406\n",
      "Epoch    2/20 Hypothesis: tensor([-11.0471, -10.7656, -11.8560, -13.7576,  -6.8366]), Cost: 33573.566406\n",
      "Epoch    3/20 Hypothesis: tensor([-11.0471, -10.7656, -11.8560, -13.7576,  -6.8366]), Cost: 33573.566406\n",
      "Epoch    4/20 Hypothesis: tensor([-11.0471, -10.7656, -11.8560, -13.7576,  -6.8366]), Cost: 33573.566406\n",
      "Epoch    5/20 Hypothesis: tensor([-11.0471, -10.7656, -11.8560, -13.7576,  -6.8366]), Cost: 33573.566406\n",
      "Epoch    6/20 Hypothesis: tensor([-11.0471, -10.7656, -11.8560, -13.7576,  -6.8366]), Cost: 33573.566406\n",
      "Epoch    7/20 Hypothesis: tensor([-11.0471, -10.7656, -11.8560, -13.7576,  -6.8366]), Cost: 33573.566406\n",
      "Epoch    8/20 Hypothesis: tensor([-11.0471, -10.7656, -11.8560, -13.7576,  -6.8366]), Cost: 33573.566406\n",
      "Epoch    9/20 Hypothesis: tensor([-11.0471, -10.7656, -11.8560, -13.7576,  -6.8366]), Cost: 33573.566406\n",
      "Epoch   10/20 Hypothesis: tensor([-11.0471, -10.7656, -11.8560, -13.7576,  -6.8366]), Cost: 33573.566406\n",
      "Epoch   11/20 Hypothesis: tensor([-11.0471, -10.7656, -11.8560, -13.7576,  -6.8366]), Cost: 33573.566406\n",
      "Epoch   12/20 Hypothesis: tensor([-11.0471, -10.7656, -11.8560, -13.7576,  -6.8366]), Cost: 33573.566406\n",
      "Epoch   13/20 Hypothesis: tensor([-11.0471, -10.7656, -11.8560, -13.7576,  -6.8366]), Cost: 33573.566406\n",
      "Epoch   14/20 Hypothesis: tensor([-11.0471, -10.7656, -11.8560, -13.7576,  -6.8366]), Cost: 33573.566406\n",
      "Epoch   15/20 Hypothesis: tensor([-11.0471, -10.7656, -11.8560, -13.7576,  -6.8366]), Cost: 33573.566406\n",
      "Epoch   16/20 Hypothesis: tensor([-11.0471, -10.7656, -11.8560, -13.7576,  -6.8366]), Cost: 33573.566406\n",
      "Epoch   17/20 Hypothesis: tensor([-11.0471, -10.7656, -11.8560, -13.7576,  -6.8366]), Cost: 33573.566406\n",
      "Epoch   18/20 Hypothesis: tensor([-11.0471, -10.7656, -11.8560, -13.7576,  -6.8366]), Cost: 33573.566406\n",
      "Epoch   19/20 Hypothesis: tensor([-11.0471, -10.7656, -11.8560, -13.7576,  -6.8366]), Cost: 33573.566406\n",
      "Epoch   20/20 Hypothesis: tensor([-11.0471, -10.7656, -11.8560, -13.7576,  -6.8366]), Cost: 33573.566406\n"
     ]
    }
   ],
   "source": [
    "import torch.nn.functional as F\n",
    "\n",
    "nb_epochs=20\n",
    "for epoch in range(nb_epochs+1):\n",
    "    \n",
    "    hypothesis=model(x_train)\n",
    "    \n",
    "    cost=F.mse_loss(hypothesis,y_train)\n",
    "    \n",
    "    optimizer.zero_grad()\n",
    "    \n",
    "    cost.backward()\n",
    "    \n",
    "    optimizer.step()\n",
    "    \n",
    "    print('Epoch {:4d}/{} Hypothesis: {}, Cost: {:.6f}'.format(epoch,nb_epochs,Hypothesis.squeeze().detach(),cost.item()))"
   ]
  }
 ],
 "metadata": {
  "kernelspec": {
   "display_name": ".venv",
   "language": "python",
   "name": "python3"
  },
  "language_info": {
   "codemirror_mode": {
    "name": "ipython",
    "version": 3
   },
   "file_extension": ".py",
   "mimetype": "text/x-python",
   "name": "python",
   "nbconvert_exporter": "python",
   "pygments_lexer": "ipython3",
   "version": "3.13.2"
  }
 },
 "nbformat": 4,
 "nbformat_minor": 5
}
