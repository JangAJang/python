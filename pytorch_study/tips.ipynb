{
 "cells": [
  {
   "cell_type": "markdown",
   "id": "957882fd",
   "metadata": {},
   "source": [
    "# Maximum Likelihood Estimation (MLE)\n",
    "\n",
    "- 관측 데이터가 가장 그럴듯하게 나올 수 있는 모델 파라미터를 찾는 방법\n",
    "- 특정 데이터 x에 대해 파라미터 θ 하에서 데이터가 나올 확률이 나올 때, 이를 최대화시키는 θ를 찾는 것\n",
    "\n",
    "θ_MLE = argmax L(θ | x)\n",
    "- L(θ | x) : Likelihood Function으로, 파라미터 θ 하에서 x가 나올 확률\n",
    "- θ_MLE : MLE로 추정한 최적 파라미터"
   ]
  },
  {
   "cell_type": "markdown",
   "id": "465fd483",
   "metadata": {},
   "source": [
    "베르누이 분포를 이용해 예시를 들어보자. \n",
    "\n",
    "압정을 100번 던져서 머리와 다리 중, 머리로 떨어진 횟수가 27번이다. \n",
    "이 때 L(θ | x) = L(p) = p ^ 27 * (1 - p) ^ (100 - 27) 으로 나온다. \n",
    "\n",
    "p에 따른 L(p)를 최대화 하기 위한 θ는 어떻게 구할까? \n",
    "\n",
    "1. 로그를 씌운다. \n",
    "    logL(p) = 27logp + 73log(1-p)\n",
    "\n",
    "2. 미분을 하고 그 값을 0으로 놓는다(미분시 0은 최대, 최소값을 의미함)\n",
    "    27 / p - 73 / (1-p) = 0, 27/p = 73/(1-p)\n",
    "\n",
    "3. p를 구한다. \n",
    "    73p = 27 - 27p, p = 0.27\n",
    "\n",
    "이번 경우에서 최적의 파라미터는 0.27이 나온다. "
   ]
  },
  {
   "cell_type": "markdown",
   "id": "62a83948",
   "metadata": {},
   "source": [
    "MLE는 확률 모델을 정하고, L(p)를 정의한 후 Likelihood를 최대화하는 파라미터를 찾는 방법이다"
   ]
  }
 ],
 "metadata": {
  "language_info": {
   "name": "python"
  }
 },
 "nbformat": 4,
 "nbformat_minor": 5
}
