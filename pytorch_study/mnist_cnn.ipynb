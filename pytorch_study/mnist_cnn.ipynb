{
 "cells": [
  {
   "cell_type": "markdown",
   "id": "962278e0",
   "metadata": {},
   "source": [
    "# minst_cnn\n",
    "\n",
    "- 딥러닝을 학습시키는 단계\n",
    "- cnn 구조 확인\n",
    "- MNIST에 cnn 적용시키는 방법"
   ]
  },
  {
   "cell_type": "markdown",
   "id": "1a24eb52",
   "metadata": {},
   "source": [
    "## 학습 단계\n",
    "\n",
    "1. 라이브러리 가져오기\n",
    "2. GPU 사용 설정, random value를 위한 seed\n",
    "3. parameter설정\n",
    "4. 데이터셋 가져오기\n",
    "5. 학습모델 만들기\n",
    "6. Loss function & 최적화도구 선택\n",
    "7. 모델 학습 및 loss check\n",
    "8. 모델 성능 확인"
   ]
  },
  {
   "cell_type": "code",
   "execution_count": 2,
   "id": "70242b2e",
   "metadata": {},
   "outputs": [],
   "source": [
    "import torch\n",
    "import torch.nn as nn\n",
    "import torchvision.datasets as dsets\n",
    "import torchvision.transforms as transforms\n",
    "\n",
    "import torch.nn.init"
   ]
  },
  {
   "cell_type": "code",
   "execution_count": 3,
   "id": "4a6768bc",
   "metadata": {},
   "outputs": [
    {
     "name": "stdout",
     "output_type": "stream",
     "text": [
      "cpu\n"
     ]
    }
   ],
   "source": [
    "device = 'cuda' if torch.cuda.is_available() else 'cpu'\n",
    "print(device)\n",
    "\n",
    "torch.manual_seed(777)\n",
    "if device == 'cuda':\n",
    "    torch.cuda.manual_seed = 777"
   ]
  },
  {
   "cell_type": "code",
   "execution_count": 4,
   "id": "35f56f01",
   "metadata": {},
   "outputs": [],
   "source": [
    "learning_rate = 0.001\n",
    "training_epochs = 15\n",
    "batch_size = 100"
   ]
  },
  {
   "cell_type": "code",
   "execution_count": 5,
   "id": "d614abd8",
   "metadata": {},
   "outputs": [],
   "source": [
    "mnist_train = dsets.MNIST(\n",
    "    root='MNIST_data/',\n",
    "    train=True,\n",
    "    transform=transforms.ToTensor(),\n",
    "    download=True\n",
    ")\n",
    "\n",
    "mnist_test = dsets.MNIST(\n",
    "    root='MNIST_data/',\n",
    "    train=False,\n",
    "    transform=transforms.ToTensor(),\n",
    "    download=True\n",
    ")"
   ]
  },
  {
   "cell_type": "code",
   "execution_count": 6,
   "id": "ca1637d0",
   "metadata": {},
   "outputs": [],
   "source": [
    "data_loader = torch.utils.data.DataLoader(\n",
    "    dataset=mnist_test,\n",
    "    batch_size=batch_size,\n",
    "    shuffle=True,\n",
    "    drop_last=True\n",
    ")"
   ]
  },
  {
   "cell_type": "code",
   "execution_count": 7,
   "id": "e933a334",
   "metadata": {},
   "outputs": [],
   "source": [
    "class CNN(nn.Module):\n",
    "    \n",
    "    def __init__(self):\n",
    "        super(CNN, self).__init__()\n",
    "        \n",
    "        self.layer1 = nn.Sequential(\n",
    "            nn.Conv2d(1, 32, kernel_size=3, stride=1, padding=1),\n",
    "            nn.ReLU(),\n",
    "            nn.MaxPool2d(2)\n",
    "        )\n",
    "        \n",
    "        self.layer2 = nn.Sequential(\n",
    "            nn.Conv2d(32, 64, kernel_size=3, stride=1, padding=1),\n",
    "            nn.ReLU(),\n",
    "            nn.MaxPool2d(2)\n",
    "        )\n",
    "        \n",
    "        self.fc = nn.Linear(7*7*64, 10, bias=True)\n",
    "        torch.nn.init.xavier_uniform_(self.fc.weight)\n",
    "        \n",
    "    def forward(self, x):\n",
    "        out = self.layer1(x)\n",
    "        out = self.layer2(out)\n",
    "        \n",
    "        out = out.view(out.size(0), -1)\n",
    "        out = self.fc(out)\n",
    "        \n",
    "        return out"
   ]
  },
  {
   "cell_type": "code",
   "execution_count": 8,
   "id": "dc2d5fe0",
   "metadata": {},
   "outputs": [],
   "source": [
    "model = CNN().to(device)"
   ]
  },
  {
   "cell_type": "code",
   "execution_count": 9,
   "id": "de09f4b5",
   "metadata": {},
   "outputs": [],
   "source": [
    "criterion = nn.CrossEntropyLoss().to(device)\n",
    "optimizer = torch.optim.Adam(model.parameters(), lr = learning_rate)"
   ]
  },
  {
   "cell_type": "code",
   "execution_count": 10,
   "id": "3d1947fd",
   "metadata": {},
   "outputs": [
    {
     "name": "stdout",
     "output_type": "stream",
     "text": [
      "Epoch:1 cost = 0.6738463640213013\n",
      "Epoch:2 cost = 0.17841598391532898\n",
      "Epoch:3 cost = 0.10339967161417007\n",
      "Epoch:4 cost = 0.07112696766853333\n",
      "Epoch:5 cost = 0.05583443120121956\n",
      "Epoch:6 cost = 0.040757518261671066\n",
      "Epoch:7 cost = 0.029781123623251915\n",
      "Epoch:8 cost = 0.02401765249669552\n",
      "Epoch:9 cost = 0.01937095634639263\n",
      "Epoch:10 cost = 0.013794617727398872\n",
      "Epoch:11 cost = 0.011639696545898914\n",
      "Epoch:12 cost = 0.011626743711531162\n",
      "Epoch:13 cost = 0.006786367855966091\n",
      "Epoch:14 cost = 0.004223864525556564\n",
      "Epoch:15 cost = 0.0057669514790177345\n",
      "Learning finished\n"
     ]
    }
   ],
   "source": [
    "total_batch = len(data_loader)\n",
    "\n",
    "for epoch in range(training_epochs):\n",
    "    avg_cost = 0\n",
    "    \n",
    "    for X, Y in data_loader:\n",
    "        X = X.to(device)\n",
    "        Y = Y.to(device)\n",
    "        \n",
    "        optimizer.zero_grad()\n",
    "        \n",
    "        hypothesis = model(X)\n",
    "        cost = criterion(hypothesis, Y)\n",
    "        cost.backward()\n",
    "        optimizer.step()\n",
    "        \n",
    "        avg_cost += cost / total_batch\n",
    "        \n",
    "    print('Epoch:{} cost = {}'.format(epoch + 1, avg_cost))\n",
    "    \n",
    "print('Learning finished')\n",
    "        "
   ]
  },
  {
   "cell_type": "code",
   "execution_count": 15,
   "id": "127d659c",
   "metadata": {},
   "outputs": [
    {
     "name": "stderr",
     "output_type": "stream",
     "text": [
      "c:\\Users\\muhayuleejanghee\\Desktop\\study\\.venv\\Lib\\site-packages\\torchvision\\datasets\\mnist.py:81: UserWarning: test_data has been renamed data\n",
      "  warnings.warn(\"test_data has been renamed data\")\n",
      "c:\\Users\\muhayuleejanghee\\Desktop\\study\\.venv\\Lib\\site-packages\\torchvision\\datasets\\mnist.py:71: UserWarning: test_labels has been renamed targets\n",
      "  warnings.warn(\"test_labels has been renamed targets\")\n"
     ]
    },
    {
     "name": "stdout",
     "output_type": "stream",
     "text": [
      "Accuracy :  0.996999979019165\n"
     ]
    }
   ],
   "source": [
    "with torch.no_grad():\n",
    "    x_test = mnist_test.test_data.view(len(mnist_test), 1, 28, 28).float().to(device)\n",
    "    y_test = mnist_test.test_labels.to(device)\n",
    "    \n",
    "    prediction = model(x_test)\n",
    "    correct_prediction = torch.argmax(prediction, 1) == y_test\n",
    "    \n",
    "    accuracy = correct_prediction.float().mean()\n",
    "    \n",
    "    print('Accuracy : ', accuracy.item())"
   ]
  },
  {
   "cell_type": "markdown",
   "id": "87de4233",
   "metadata": {},
   "source": [
    "## 테스트 결과\n",
    "\n",
    "- 99.69%\n",
    "- 여기에서 레이어 3와 레이어 4, 5를 추가하면 어떨까? \n",
    "\n",
    "![internal covariate shift.png](/python/pytorch_study/images/mnist_cnn_layer_add.png)\n"
   ]
  },
  {
   "cell_type": "code",
   "execution_count": 18,
   "id": "d57f5a96",
   "metadata": {},
   "outputs": [
    {
     "name": "stdout",
     "output_type": "stream",
     "text": [
      "Epoch:1 cost = 0.514384925365448\n",
      "Epoch:2 cost = 0.10562222450971603\n",
      "Epoch:3 cost = 0.052530936896800995\n",
      "Epoch:4 cost = 0.043791212141513824\n",
      "Epoch:5 cost = 0.029839470982551575\n",
      "Epoch:6 cost = 0.020164547488093376\n",
      "Epoch:7 cost = 0.007961878553032875\n",
      "Epoch:8 cost = 0.011308752000331879\n",
      "Epoch:9 cost = 0.014625041745603085\n",
      "Epoch:10 cost = 0.005085976794362068\n",
      "Epoch:11 cost = 0.0024458442348986864\n",
      "Epoch:12 cost = 0.0006160424672998488\n",
      "Epoch:13 cost = 0.00017724769713822752\n",
      "Epoch:14 cost = 0.0001121346140280366\n",
      "Epoch:15 cost = 8.407561836065724e-05\n",
      "Learning finished\n"
     ]
    },
    {
     "name": "stderr",
     "output_type": "stream",
     "text": [
      "c:\\Users\\muhayuleejanghee\\Desktop\\study\\.venv\\Lib\\site-packages\\torchvision\\datasets\\mnist.py:81: UserWarning: test_data has been renamed data\n",
      "  warnings.warn(\"test_data has been renamed data\")\n",
      "c:\\Users\\muhayuleejanghee\\Desktop\\study\\.venv\\Lib\\site-packages\\torchvision\\datasets\\mnist.py:71: UserWarning: test_labels has been renamed targets\n",
      "  warnings.warn(\"test_labels has been renamed targets\")\n"
     ]
    },
    {
     "name": "stdout",
     "output_type": "stream",
     "text": [
      "Accuracy :  0.9995999932289124\n"
     ]
    }
   ],
   "source": [
    "class CNN(nn.Module):\n",
    "    \n",
    "    def __init__(self):\n",
    "        super(CNN, self).__init__()\n",
    "        \n",
    "        self.layer1 = nn.Sequential(\n",
    "            nn.Conv2d(1, 32, kernel_size=3, stride=1, padding=1),\n",
    "            nn.ReLU(),\n",
    "            nn.MaxPool2d(2)\n",
    "        )\n",
    "        \n",
    "        self.layer2 = nn.Sequential(\n",
    "            nn.Conv2d(32, 64, kernel_size=3, stride=1, padding=1),\n",
    "            nn.ReLU(),\n",
    "            nn.MaxPool2d(2)\n",
    "        )\n",
    "        \n",
    "        self.layer3 = nn.Sequential(\n",
    "            nn.Conv2d(64, 128, kernel_size=3, stride=1, padding=1),\n",
    "            nn.ReLU(),\n",
    "            nn.MaxPool2d(2)\n",
    "        )\n",
    "        \n",
    "        self.fc1 = nn.Linear(3*3*128, 625, bias=True)\n",
    "        \n",
    "        self.relu = nn.ReLU()\n",
    "        \n",
    "        self.fc2 = nn.Linear(625, 10, bias=True)\n",
    "        torch.nn.init.xavier_uniform_(self.fc1.weight)\n",
    "        torch.nn.init.xavier_uniform_(self.fc2.weight)\n",
    "        \n",
    "    def forward(self, x):\n",
    "        out = self.layer1(x)\n",
    "        out = self.layer2(out)\n",
    "        out = self.layer3(out)\n",
    "        \n",
    "        out = out.view(out.size(0), -1)\n",
    "        out = self.fc1(out)\n",
    "        out = self.relu(out)\n",
    "        out = self.fc2(out)\n",
    "        \n",
    "        return out\n",
    "    \n",
    "model = CNN().to(device)\n",
    "criterion = nn.CrossEntropyLoss().to(device)\n",
    "optimizer = torch.optim.Adam(model.parameters(), lr = learning_rate)\n",
    "\n",
    "total_batch = len(data_loader)\n",
    "\n",
    "for epoch in range(training_epochs):\n",
    "    avg_cost = 0\n",
    "    \n",
    "    for X, Y in data_loader:\n",
    "        X = X.to(device)\n",
    "        Y = Y.to(device)\n",
    "        \n",
    "        optimizer.zero_grad()\n",
    "        \n",
    "        hypothesis = model(X)\n",
    "        cost = criterion(hypothesis, Y)\n",
    "        cost.backward()\n",
    "        optimizer.step()\n",
    "        \n",
    "        avg_cost += cost / total_batch\n",
    "        \n",
    "    print('Epoch:{} cost = {}'.format(epoch + 1, avg_cost))\n",
    "    \n",
    "print('Learning finished')\n",
    "\n",
    "with torch.no_grad():\n",
    "    x_test = mnist_test.test_data.view(len(mnist_test), 1, 28, 28).float().to(device)\n",
    "    y_test = mnist_test.test_labels.to(device)\n",
    "    \n",
    "    prediction = model(x_test)\n",
    "    correct_prediction = torch.argmax(prediction, 1) == y_test\n",
    "    \n",
    "    accuracy = correct_prediction.float().mean()\n",
    "    \n",
    "    print('Accuracy : ', accuracy.item())\n",
    "        "
   ]
  }
 ],
 "metadata": {
  "kernelspec": {
   "display_name": ".venv",
   "language": "python",
   "name": "python3"
  },
  "language_info": {
   "codemirror_mode": {
    "name": "ipython",
    "version": 3
   },
   "file_extension": ".py",
   "mimetype": "text/x-python",
   "name": "python",
   "nbconvert_exporter": "python",
   "pygments_lexer": "ipython3",
   "version": "3.13.2"
  }
 },
 "nbformat": 4,
 "nbformat_minor": 5
}
